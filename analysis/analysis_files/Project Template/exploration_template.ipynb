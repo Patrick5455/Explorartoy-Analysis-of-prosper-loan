{
 "cells": [
  {
   "cell_type": "markdown",
   "metadata": {},
   "source": [
    "# (Exploration and Visualization of Prosper loans)\n",
    "\n",
    "## Patrick Ojunde\n",
    "\n",
    "<!-- ## Preliminary Wrangling\n",
    " -->\n",
    "## Table of Contents\n",
    "<ul>\n",
    "<li><a href=\"#introduce\">Introduction</a></li>\n",
    "<li><a href=\"#obj\">Objective</a></li>\n",
    "<li><a href=\"#wrangle\">Data Wrangling</a></li>\n",
    "<li><a href=\"#explore\">Univariate exploration</a></li>\n",
    "<li><a href=\"#bi\">Bivariate exploration</a></li> \n",
    "<li><a href=\"#multi\">Multivariate exploration</a></li>\n",
    "<li><a href=\"#insights\">Analysis Summary & Insights</a></li>  \n",
    "<li><a href=\"#conclude\">Conclusions</a></li>\n",
    "</ul>"
   ]
  },
  {
   "cell_type": "markdown",
   "metadata": {},
   "source": [
    "<a id='introduce'></a>\n",
    "\n",
    "### Introduction\n",
    "\n",
    "> The dataset is composed of  113,937 rows (uniquely idenifying a loan) and 81 variables that describes each loan some of which includes loan amount, borrower rate (or interest rate), current loan status, and borrower income.\n",
    "\n",
    "> More information about this dataset can be found here: https://docs.google.com/spreadsheets/d/1gDyi_L4UvIrLTEC6Wri5nbaMmkGmLQBk-Yx3z0XDEtI/edit#gid=0\n"
   ]
  },
  {
   "cell_type": "markdown",
   "metadata": {},
   "source": [
    "<a id='obj'></a>\n",
    "    \n",
    "### Objective\n",
    "    \n",
    "> The objective of this analysis and visualization activity is to come up with interesting and actionable insghts from the loan data\n",
    "\n",
    "> We also want to identify what featrues are suitable for predicting the success of a loan application"
   ]
  },
  {
   "cell_type": "markdown",
   "metadata": {},
   "source": [
    ">> Importing required libraries"
   ]
  },
  {
   "cell_type": "code",
   "execution_count": 126,
   "metadata": {},
   "outputs": [],
   "source": [
    "# import all packages and set plots to be embedded inline\n",
    "import numpy as np\n",
    "import pandas as pd \n",
    "import matplotlib.pyplot as plt\n",
    "import seaborn as sb\n",
    "\n",
    "%matplotlib inline"
   ]
  },
  {
   "cell_type": "markdown",
   "metadata": {},
   "source": [
    "<!-- > Load in your dataset and describe its properties through the questions below.\n",
    "Try and motivate your exploration goals through this section. -->"
   ]
  },
  {
   "cell_type": "code",
   "execution_count": 127,
   "metadata": {},
   "outputs": [],
   "source": [
    "df_main = pd.read_csv('prosperLoanData.csv')"
   ]
  },
  {
   "cell_type": "code",
   "execution_count": 128,
   "metadata": {},
   "outputs": [
    {
     "data": {
      "text/html": [
       "<div>\n",
       "<style scoped>\n",
       "    .dataframe tbody tr th:only-of-type {\n",
       "        vertical-align: middle;\n",
       "    }\n",
       "\n",
       "    .dataframe tbody tr th {\n",
       "        vertical-align: top;\n",
       "    }\n",
       "\n",
       "    .dataframe thead th {\n",
       "        text-align: right;\n",
       "    }\n",
       "</style>\n",
       "<table border=\"1\" class=\"dataframe\">\n",
       "  <thead>\n",
       "    <tr style=\"text-align: right;\">\n",
       "      <th></th>\n",
       "      <th>ListingKey</th>\n",
       "      <th>ListingNumber</th>\n",
       "      <th>ListingCreationDate</th>\n",
       "      <th>CreditGrade</th>\n",
       "      <th>Term</th>\n",
       "      <th>LoanStatus</th>\n",
       "      <th>ClosedDate</th>\n",
       "      <th>BorrowerAPR</th>\n",
       "      <th>BorrowerRate</th>\n",
       "      <th>LenderYield</th>\n",
       "      <th>...</th>\n",
       "      <th>LP_ServiceFees</th>\n",
       "      <th>LP_CollectionFees</th>\n",
       "      <th>LP_GrossPrincipalLoss</th>\n",
       "      <th>LP_NetPrincipalLoss</th>\n",
       "      <th>LP_NonPrincipalRecoverypayments</th>\n",
       "      <th>PercentFunded</th>\n",
       "      <th>Recommendations</th>\n",
       "      <th>InvestmentFromFriendsCount</th>\n",
       "      <th>InvestmentFromFriendsAmount</th>\n",
       "      <th>Investors</th>\n",
       "    </tr>\n",
       "  </thead>\n",
       "  <tbody>\n",
       "    <tr>\n",
       "      <th>0</th>\n",
       "      <td>1021339766868145413AB3B</td>\n",
       "      <td>193129</td>\n",
       "      <td>2007-08-26 19:09:29.263000000</td>\n",
       "      <td>C</td>\n",
       "      <td>36</td>\n",
       "      <td>Completed</td>\n",
       "      <td>2009-08-14 00:00:00</td>\n",
       "      <td>0.16516</td>\n",
       "      <td>0.1580</td>\n",
       "      <td>0.1380</td>\n",
       "      <td>...</td>\n",
       "      <td>-133.18</td>\n",
       "      <td>0.0</td>\n",
       "      <td>0.0</td>\n",
       "      <td>0.0</td>\n",
       "      <td>0.0</td>\n",
       "      <td>1.0</td>\n",
       "      <td>0</td>\n",
       "      <td>0</td>\n",
       "      <td>0.0</td>\n",
       "      <td>258</td>\n",
       "    </tr>\n",
       "    <tr>\n",
       "      <th>1</th>\n",
       "      <td>10273602499503308B223C1</td>\n",
       "      <td>1209647</td>\n",
       "      <td>2014-02-27 08:28:07.900000000</td>\n",
       "      <td>NaN</td>\n",
       "      <td>36</td>\n",
       "      <td>Current</td>\n",
       "      <td>NaN</td>\n",
       "      <td>0.12016</td>\n",
       "      <td>0.0920</td>\n",
       "      <td>0.0820</td>\n",
       "      <td>...</td>\n",
       "      <td>0.00</td>\n",
       "      <td>0.0</td>\n",
       "      <td>0.0</td>\n",
       "      <td>0.0</td>\n",
       "      <td>0.0</td>\n",
       "      <td>1.0</td>\n",
       "      <td>0</td>\n",
       "      <td>0</td>\n",
       "      <td>0.0</td>\n",
       "      <td>1</td>\n",
       "    </tr>\n",
       "    <tr>\n",
       "      <th>2</th>\n",
       "      <td>0EE9337825851032864889A</td>\n",
       "      <td>81716</td>\n",
       "      <td>2007-01-05 15:00:47.090000000</td>\n",
       "      <td>HR</td>\n",
       "      <td>36</td>\n",
       "      <td>Completed</td>\n",
       "      <td>2009-12-17 00:00:00</td>\n",
       "      <td>0.28269</td>\n",
       "      <td>0.2750</td>\n",
       "      <td>0.2400</td>\n",
       "      <td>...</td>\n",
       "      <td>-24.20</td>\n",
       "      <td>0.0</td>\n",
       "      <td>0.0</td>\n",
       "      <td>0.0</td>\n",
       "      <td>0.0</td>\n",
       "      <td>1.0</td>\n",
       "      <td>0</td>\n",
       "      <td>0</td>\n",
       "      <td>0.0</td>\n",
       "      <td>41</td>\n",
       "    </tr>\n",
       "    <tr>\n",
       "      <th>3</th>\n",
       "      <td>0EF5356002482715299901A</td>\n",
       "      <td>658116</td>\n",
       "      <td>2012-10-22 11:02:35.010000000</td>\n",
       "      <td>NaN</td>\n",
       "      <td>36</td>\n",
       "      <td>Current</td>\n",
       "      <td>NaN</td>\n",
       "      <td>0.12528</td>\n",
       "      <td>0.0974</td>\n",
       "      <td>0.0874</td>\n",
       "      <td>...</td>\n",
       "      <td>-108.01</td>\n",
       "      <td>0.0</td>\n",
       "      <td>0.0</td>\n",
       "      <td>0.0</td>\n",
       "      <td>0.0</td>\n",
       "      <td>1.0</td>\n",
       "      <td>0</td>\n",
       "      <td>0</td>\n",
       "      <td>0.0</td>\n",
       "      <td>158</td>\n",
       "    </tr>\n",
       "    <tr>\n",
       "      <th>4</th>\n",
       "      <td>0F023589499656230C5E3E2</td>\n",
       "      <td>909464</td>\n",
       "      <td>2013-09-14 18:38:39.097000000</td>\n",
       "      <td>NaN</td>\n",
       "      <td>36</td>\n",
       "      <td>Current</td>\n",
       "      <td>NaN</td>\n",
       "      <td>0.24614</td>\n",
       "      <td>0.2085</td>\n",
       "      <td>0.1985</td>\n",
       "      <td>...</td>\n",
       "      <td>-60.27</td>\n",
       "      <td>0.0</td>\n",
       "      <td>0.0</td>\n",
       "      <td>0.0</td>\n",
       "      <td>0.0</td>\n",
       "      <td>1.0</td>\n",
       "      <td>0</td>\n",
       "      <td>0</td>\n",
       "      <td>0.0</td>\n",
       "      <td>20</td>\n",
       "    </tr>\n",
       "  </tbody>\n",
       "</table>\n",
       "<p>5 rows × 81 columns</p>\n",
       "</div>"
      ],
      "text/plain": [
       "                ListingKey  ListingNumber            ListingCreationDate  \\\n",
       "0  1021339766868145413AB3B         193129  2007-08-26 19:09:29.263000000   \n",
       "1  10273602499503308B223C1        1209647  2014-02-27 08:28:07.900000000   \n",
       "2  0EE9337825851032864889A          81716  2007-01-05 15:00:47.090000000   \n",
       "3  0EF5356002482715299901A         658116  2012-10-22 11:02:35.010000000   \n",
       "4  0F023589499656230C5E3E2         909464  2013-09-14 18:38:39.097000000   \n",
       "\n",
       "  CreditGrade  Term LoanStatus           ClosedDate  BorrowerAPR  \\\n",
       "0           C    36  Completed  2009-08-14 00:00:00      0.16516   \n",
       "1         NaN    36    Current                  NaN      0.12016   \n",
       "2          HR    36  Completed  2009-12-17 00:00:00      0.28269   \n",
       "3         NaN    36    Current                  NaN      0.12528   \n",
       "4         NaN    36    Current                  NaN      0.24614   \n",
       "\n",
       "   BorrowerRate  LenderYield  ...  LP_ServiceFees  LP_CollectionFees  \\\n",
       "0        0.1580       0.1380  ...         -133.18                0.0   \n",
       "1        0.0920       0.0820  ...            0.00                0.0   \n",
       "2        0.2750       0.2400  ...          -24.20                0.0   \n",
       "3        0.0974       0.0874  ...         -108.01                0.0   \n",
       "4        0.2085       0.1985  ...          -60.27                0.0   \n",
       "\n",
       "   LP_GrossPrincipalLoss  LP_NetPrincipalLoss LP_NonPrincipalRecoverypayments  \\\n",
       "0                    0.0                  0.0                             0.0   \n",
       "1                    0.0                  0.0                             0.0   \n",
       "2                    0.0                  0.0                             0.0   \n",
       "3                    0.0                  0.0                             0.0   \n",
       "4                    0.0                  0.0                             0.0   \n",
       "\n",
       "   PercentFunded  Recommendations InvestmentFromFriendsCount  \\\n",
       "0            1.0                0                          0   \n",
       "1            1.0                0                          0   \n",
       "2            1.0                0                          0   \n",
       "3            1.0                0                          0   \n",
       "4            1.0                0                          0   \n",
       "\n",
       "  InvestmentFromFriendsAmount Investors  \n",
       "0                         0.0       258  \n",
       "1                         0.0         1  \n",
       "2                         0.0        41  \n",
       "3                         0.0       158  \n",
       "4                         0.0        20  \n",
       "\n",
       "[5 rows x 81 columns]"
      ]
     },
     "execution_count": 128,
     "metadata": {},
     "output_type": "execute_result"
    }
   ],
   "source": [
    "df_main.head()"
   ]
  },
  {
   "cell_type": "markdown",
   "metadata": {},
   "source": [
    "<!-- ### What is the structure of your dataset? -->"
   ]
  },
  {
   "cell_type": "markdown",
   "metadata": {},
   "source": [
    "### Exlpore qualitative and quantitive features of datasets"
   ]
  },
  {
   "cell_type": "code",
   "execution_count": 129,
   "metadata": {},
   "outputs": [
    {
     "name": "stdout",
     "output_type": "stream",
     "text": [
      "No of Rows: 113937\n",
      "No of Columns: 81\n"
     ]
    }
   ],
   "source": [
    "rows= df_main.shape[0]\n",
    "columns = df_main.shape[1]\n",
    "print(f'No of Rows: {rows}\\nNo of Columns: {columns}')"
   ]
  },
  {
   "cell_type": "markdown",
   "metadata": {},
   "source": [
    "> Let us firstly have a look at our columns and determine which ones ware suitable for the objective of this analysis"
   ]
  },
  {
   "cell_type": "code",
   "execution_count": 130,
   "metadata": {},
   "outputs": [
    {
     "name": "stdout",
     "output_type": "stream",
     "text": [
      "<class 'pandas.core.frame.DataFrame'>\n",
      "RangeIndex: 113937 entries, 0 to 113936\n",
      "Data columns (total 81 columns):\n",
      " #   Column                               Non-Null Count   Dtype  \n",
      "---  ------                               --------------   -----  \n",
      " 0   ListingKey                           113937 non-null  object \n",
      " 1   ListingNumber                        113937 non-null  int64  \n",
      " 2   ListingCreationDate                  113937 non-null  object \n",
      " 3   CreditGrade                          28953 non-null   object \n",
      " 4   Term                                 113937 non-null  int64  \n",
      " 5   LoanStatus                           113937 non-null  object \n",
      " 6   ClosedDate                           55089 non-null   object \n",
      " 7   BorrowerAPR                          113912 non-null  float64\n",
      " 8   BorrowerRate                         113937 non-null  float64\n",
      " 9   LenderYield                          113937 non-null  float64\n",
      " 10  EstimatedEffectiveYield              84853 non-null   float64\n",
      " 11  EstimatedLoss                        84853 non-null   float64\n",
      " 12  EstimatedReturn                      84853 non-null   float64\n",
      " 13  ProsperRating (numeric)              84853 non-null   float64\n",
      " 14  ProsperRating (Alpha)                84853 non-null   object \n",
      " 15  ProsperScore                         84853 non-null   float64\n",
      " 16  ListingCategory (numeric)            113937 non-null  int64  \n",
      " 17  BorrowerState                        108422 non-null  object \n",
      " 18  Occupation                           110349 non-null  object \n",
      " 19  EmploymentStatus                     111682 non-null  object \n",
      " 20  EmploymentStatusDuration             106312 non-null  float64\n",
      " 21  IsBorrowerHomeowner                  113937 non-null  bool   \n",
      " 22  CurrentlyInGroup                     113937 non-null  bool   \n",
      " 23  GroupKey                             13341 non-null   object \n",
      " 24  DateCreditPulled                     113937 non-null  object \n",
      " 25  CreditScoreRangeLower                113346 non-null  float64\n",
      " 26  CreditScoreRangeUpper                113346 non-null  float64\n",
      " 27  FirstRecordedCreditLine              113240 non-null  object \n",
      " 28  CurrentCreditLines                   106333 non-null  float64\n",
      " 29  OpenCreditLines                      106333 non-null  float64\n",
      " 30  TotalCreditLinespast7years           113240 non-null  float64\n",
      " 31  OpenRevolvingAccounts                113937 non-null  int64  \n",
      " 32  OpenRevolvingMonthlyPayment          113937 non-null  float64\n",
      " 33  InquiriesLast6Months                 113240 non-null  float64\n",
      " 34  TotalInquiries                       112778 non-null  float64\n",
      " 35  CurrentDelinquencies                 113240 non-null  float64\n",
      " 36  AmountDelinquent                     106315 non-null  float64\n",
      " 37  DelinquenciesLast7Years              112947 non-null  float64\n",
      " 38  PublicRecordsLast10Years             113240 non-null  float64\n",
      " 39  PublicRecordsLast12Months            106333 non-null  float64\n",
      " 40  RevolvingCreditBalance               106333 non-null  float64\n",
      " 41  BankcardUtilization                  106333 non-null  float64\n",
      " 42  AvailableBankcardCredit              106393 non-null  float64\n",
      " 43  TotalTrades                          106393 non-null  float64\n",
      " 44  TradesNeverDelinquent (percentage)   106393 non-null  float64\n",
      " 45  TradesOpenedLast6Months              106393 non-null  float64\n",
      " 46  DebtToIncomeRatio                    105383 non-null  float64\n",
      " 47  IncomeRange                          113937 non-null  object \n",
      " 48  IncomeVerifiable                     113937 non-null  bool   \n",
      " 49  StatedMonthlyIncome                  113937 non-null  float64\n",
      " 50  LoanKey                              113937 non-null  object \n",
      " 51  TotalProsperLoans                    22085 non-null   float64\n",
      " 52  TotalProsperPaymentsBilled           22085 non-null   float64\n",
      " 53  OnTimeProsperPayments                22085 non-null   float64\n",
      " 54  ProsperPaymentsLessThanOneMonthLate  22085 non-null   float64\n",
      " 55  ProsperPaymentsOneMonthPlusLate      22085 non-null   float64\n",
      " 56  ProsperPrincipalBorrowed             22085 non-null   float64\n",
      " 57  ProsperPrincipalOutstanding          22085 non-null   float64\n",
      " 58  ScorexChangeAtTimeOfListing          18928 non-null   float64\n",
      " 59  LoanCurrentDaysDelinquent            113937 non-null  int64  \n",
      " 60  LoanFirstDefaultedCycleNumber        16952 non-null   float64\n",
      " 61  LoanMonthsSinceOrigination           113937 non-null  int64  \n",
      " 62  LoanNumber                           113937 non-null  int64  \n",
      " 63  LoanOriginalAmount                   113937 non-null  int64  \n",
      " 64  LoanOriginationDate                  113937 non-null  object \n",
      " 65  LoanOriginationQuarter               113937 non-null  object \n",
      " 66  MemberKey                            113937 non-null  object \n",
      " 67  MonthlyLoanPayment                   113937 non-null  float64\n",
      " 68  LP_CustomerPayments                  113937 non-null  float64\n",
      " 69  LP_CustomerPrincipalPayments         113937 non-null  float64\n",
      " 70  LP_InterestandFees                   113937 non-null  float64\n",
      " 71  LP_ServiceFees                       113937 non-null  float64\n",
      " 72  LP_CollectionFees                    113937 non-null  float64\n",
      " 73  LP_GrossPrincipalLoss                113937 non-null  float64\n",
      " 74  LP_NetPrincipalLoss                  113937 non-null  float64\n",
      " 75  LP_NonPrincipalRecoverypayments      113937 non-null  float64\n",
      " 76  PercentFunded                        113937 non-null  float64\n",
      " 77  Recommendations                      113937 non-null  int64  \n",
      " 78  InvestmentFromFriendsCount           113937 non-null  int64  \n",
      " 79  InvestmentFromFriendsAmount          113937 non-null  float64\n",
      " 80  Investors                            113937 non-null  int64  \n",
      "dtypes: bool(3), float64(50), int64(11), object(17)\n",
      "memory usage: 68.1+ MB\n"
     ]
    }
   ],
   "source": [
    "df_main.info()"
   ]
  },
  {
   "cell_type": "markdown",
   "metadata": {},
   "source": [
    "> Not all the data features are useful for our analysis, so we would work with the following `23 features`"
   ]
  },
  {
   "cell_type": "code",
   "execution_count": 131,
   "metadata": {},
   "outputs": [],
   "source": [
    "features_to_use = ['Term' , \n",
    "        'LoanStatus', \n",
    "        'EstimatedEffectiveYield' ,  \n",
    "        'BorrowerAPR' , \n",
    "        'BorrowerRate' , \n",
    "        'ProsperRating (numeric)',\n",
    "        'ProsperRating (Alpha)',\n",
    "        'ProsperScore',                     \n",
    "        'ListingCategory (numeric)', \n",
    "        'EmploymentStatus',\n",
    "        'Occupation', \n",
    "        'EmploymentStatusDuration', \n",
    "        'IsBorrowerHomeowner', \n",
    "        'IncomeVerifiable', \n",
    "        'StatedMonthlyIncome', \n",
    "        'MonthlyLoanPayment',\n",
    "        'Recommendations', \n",
    "        'DebtToIncomeRatio',\n",
    "        'LoanOriginalAmount' ,\n",
    "        'PercentFunded',\n",
    "        'IncomeRange',\n",
    "        'Investors',\n",
    "        'BorrowerState']"
   ]
  },
  {
   "cell_type": "markdown",
   "metadata": {},
   "source": [
    "> select the useful columns from the main dataframe"
   ]
  },
  {
   "cell_type": "code",
   "execution_count": 132,
   "metadata": {},
   "outputs": [
    {
     "data": {
      "text/html": [
       "<div>\n",
       "<style scoped>\n",
       "    .dataframe tbody tr th:only-of-type {\n",
       "        vertical-align: middle;\n",
       "    }\n",
       "\n",
       "    .dataframe tbody tr th {\n",
       "        vertical-align: top;\n",
       "    }\n",
       "\n",
       "    .dataframe thead th {\n",
       "        text-align: right;\n",
       "    }\n",
       "</style>\n",
       "<table border=\"1\" class=\"dataframe\">\n",
       "  <thead>\n",
       "    <tr style=\"text-align: right;\">\n",
       "      <th></th>\n",
       "      <th>Term</th>\n",
       "      <th>LoanStatus</th>\n",
       "      <th>EstimatedEffectiveYield</th>\n",
       "      <th>BorrowerAPR</th>\n",
       "      <th>BorrowerRate</th>\n",
       "      <th>ProsperRating (numeric)</th>\n",
       "      <th>ProsperRating (Alpha)</th>\n",
       "      <th>ProsperScore</th>\n",
       "      <th>ListingCategory (numeric)</th>\n",
       "      <th>EmploymentStatus</th>\n",
       "      <th>...</th>\n",
       "      <th>IncomeVerifiable</th>\n",
       "      <th>StatedMonthlyIncome</th>\n",
       "      <th>MonthlyLoanPayment</th>\n",
       "      <th>Recommendations</th>\n",
       "      <th>DebtToIncomeRatio</th>\n",
       "      <th>LoanOriginalAmount</th>\n",
       "      <th>PercentFunded</th>\n",
       "      <th>IncomeRange</th>\n",
       "      <th>Investors</th>\n",
       "      <th>BorrowerState</th>\n",
       "    </tr>\n",
       "  </thead>\n",
       "  <tbody>\n",
       "    <tr>\n",
       "      <th>0</th>\n",
       "      <td>36</td>\n",
       "      <td>Completed</td>\n",
       "      <td>NaN</td>\n",
       "      <td>0.16516</td>\n",
       "      <td>0.1580</td>\n",
       "      <td>NaN</td>\n",
       "      <td>NaN</td>\n",
       "      <td>NaN</td>\n",
       "      <td>0</td>\n",
       "      <td>Self-employed</td>\n",
       "      <td>...</td>\n",
       "      <td>True</td>\n",
       "      <td>3083.333333</td>\n",
       "      <td>330.43</td>\n",
       "      <td>0</td>\n",
       "      <td>0.17</td>\n",
       "      <td>9425</td>\n",
       "      <td>1.0</td>\n",
       "      <td>$25,000-49,999</td>\n",
       "      <td>258</td>\n",
       "      <td>CO</td>\n",
       "    </tr>\n",
       "    <tr>\n",
       "      <th>1</th>\n",
       "      <td>36</td>\n",
       "      <td>Current</td>\n",
       "      <td>0.07960</td>\n",
       "      <td>0.12016</td>\n",
       "      <td>0.0920</td>\n",
       "      <td>6.0</td>\n",
       "      <td>A</td>\n",
       "      <td>7.0</td>\n",
       "      <td>2</td>\n",
       "      <td>Employed</td>\n",
       "      <td>...</td>\n",
       "      <td>True</td>\n",
       "      <td>6125.000000</td>\n",
       "      <td>318.93</td>\n",
       "      <td>0</td>\n",
       "      <td>0.18</td>\n",
       "      <td>10000</td>\n",
       "      <td>1.0</td>\n",
       "      <td>$50,000-74,999</td>\n",
       "      <td>1</td>\n",
       "      <td>CO</td>\n",
       "    </tr>\n",
       "    <tr>\n",
       "      <th>2</th>\n",
       "      <td>36</td>\n",
       "      <td>Completed</td>\n",
       "      <td>NaN</td>\n",
       "      <td>0.28269</td>\n",
       "      <td>0.2750</td>\n",
       "      <td>NaN</td>\n",
       "      <td>NaN</td>\n",
       "      <td>NaN</td>\n",
       "      <td>0</td>\n",
       "      <td>Not available</td>\n",
       "      <td>...</td>\n",
       "      <td>True</td>\n",
       "      <td>2083.333333</td>\n",
       "      <td>123.32</td>\n",
       "      <td>0</td>\n",
       "      <td>0.06</td>\n",
       "      <td>3001</td>\n",
       "      <td>1.0</td>\n",
       "      <td>Not displayed</td>\n",
       "      <td>41</td>\n",
       "      <td>GA</td>\n",
       "    </tr>\n",
       "    <tr>\n",
       "      <th>3</th>\n",
       "      <td>36</td>\n",
       "      <td>Current</td>\n",
       "      <td>0.08490</td>\n",
       "      <td>0.12528</td>\n",
       "      <td>0.0974</td>\n",
       "      <td>6.0</td>\n",
       "      <td>A</td>\n",
       "      <td>9.0</td>\n",
       "      <td>16</td>\n",
       "      <td>Employed</td>\n",
       "      <td>...</td>\n",
       "      <td>True</td>\n",
       "      <td>2875.000000</td>\n",
       "      <td>321.45</td>\n",
       "      <td>0</td>\n",
       "      <td>0.15</td>\n",
       "      <td>10000</td>\n",
       "      <td>1.0</td>\n",
       "      <td>$25,000-49,999</td>\n",
       "      <td>158</td>\n",
       "      <td>GA</td>\n",
       "    </tr>\n",
       "    <tr>\n",
       "      <th>4</th>\n",
       "      <td>36</td>\n",
       "      <td>Current</td>\n",
       "      <td>0.18316</td>\n",
       "      <td>0.24614</td>\n",
       "      <td>0.2085</td>\n",
       "      <td>3.0</td>\n",
       "      <td>D</td>\n",
       "      <td>4.0</td>\n",
       "      <td>2</td>\n",
       "      <td>Employed</td>\n",
       "      <td>...</td>\n",
       "      <td>True</td>\n",
       "      <td>9583.333333</td>\n",
       "      <td>563.97</td>\n",
       "      <td>0</td>\n",
       "      <td>0.26</td>\n",
       "      <td>15000</td>\n",
       "      <td>1.0</td>\n",
       "      <td>$100,000+</td>\n",
       "      <td>20</td>\n",
       "      <td>MN</td>\n",
       "    </tr>\n",
       "  </tbody>\n",
       "</table>\n",
       "<p>5 rows × 23 columns</p>\n",
       "</div>"
      ],
      "text/plain": [
       "   Term LoanStatus  EstimatedEffectiveYield  BorrowerAPR  BorrowerRate  \\\n",
       "0    36  Completed                      NaN      0.16516        0.1580   \n",
       "1    36    Current                  0.07960      0.12016        0.0920   \n",
       "2    36  Completed                      NaN      0.28269        0.2750   \n",
       "3    36    Current                  0.08490      0.12528        0.0974   \n",
       "4    36    Current                  0.18316      0.24614        0.2085   \n",
       "\n",
       "   ProsperRating (numeric) ProsperRating (Alpha)  ProsperScore  \\\n",
       "0                      NaN                   NaN           NaN   \n",
       "1                      6.0                     A           7.0   \n",
       "2                      NaN                   NaN           NaN   \n",
       "3                      6.0                     A           9.0   \n",
       "4                      3.0                     D           4.0   \n",
       "\n",
       "   ListingCategory (numeric) EmploymentStatus  ... IncomeVerifiable  \\\n",
       "0                          0    Self-employed  ...             True   \n",
       "1                          2         Employed  ...             True   \n",
       "2                          0    Not available  ...             True   \n",
       "3                         16         Employed  ...             True   \n",
       "4                          2         Employed  ...             True   \n",
       "\n",
       "   StatedMonthlyIncome  MonthlyLoanPayment  Recommendations  \\\n",
       "0          3083.333333              330.43                0   \n",
       "1          6125.000000              318.93                0   \n",
       "2          2083.333333              123.32                0   \n",
       "3          2875.000000              321.45                0   \n",
       "4          9583.333333              563.97                0   \n",
       "\n",
       "   DebtToIncomeRatio  LoanOriginalAmount  PercentFunded     IncomeRange  \\\n",
       "0               0.17                9425            1.0  $25,000-49,999   \n",
       "1               0.18               10000            1.0  $50,000-74,999   \n",
       "2               0.06                3001            1.0   Not displayed   \n",
       "3               0.15               10000            1.0  $25,000-49,999   \n",
       "4               0.26               15000            1.0       $100,000+   \n",
       "\n",
       "   Investors  BorrowerState  \n",
       "0        258             CO  \n",
       "1          1             CO  \n",
       "2         41             GA  \n",
       "3        158             GA  \n",
       "4         20             MN  \n",
       "\n",
       "[5 rows x 23 columns]"
      ]
     },
     "execution_count": 132,
     "metadata": {},
     "output_type": "execute_result"
    }
   ],
   "source": [
    "df_loan = df_main[features_to_use]\n",
    "df_loan.head()"
   ]
  },
  {
   "cell_type": "markdown",
   "metadata": {},
   "source": [
    "> Let perform some assement of the selcted features"
   ]
  },
  {
   "cell_type": "code",
   "execution_count": 133,
   "metadata": {},
   "outputs": [
    {
     "name": "stdout",
     "output_type": "stream",
     "text": [
      "New Row Size: 113937\n",
      "New Column Size 23\n"
     ]
    }
   ],
   "source": [
    "rows = df_loan.shape[0]\n",
    "cols= df_loan.shape[1]\n",
    "print(f'New Row Size: {rows}\\nNew Column Size {cols}')"
   ]
  },
  {
   "cell_type": "code",
   "execution_count": 134,
   "metadata": {},
   "outputs": [
    {
     "name": "stdout",
     "output_type": "stream",
     "text": [
      "<class 'pandas.core.frame.DataFrame'>\n",
      "RangeIndex: 113937 entries, 0 to 113936\n",
      "Data columns (total 23 columns):\n",
      " #   Column                     Non-Null Count   Dtype  \n",
      "---  ------                     --------------   -----  \n",
      " 0   Term                       113937 non-null  int64  \n",
      " 1   LoanStatus                 113937 non-null  object \n",
      " 2   EstimatedEffectiveYield    84853 non-null   float64\n",
      " 3   BorrowerAPR                113912 non-null  float64\n",
      " 4   BorrowerRate               113937 non-null  float64\n",
      " 5   ProsperRating (numeric)    84853 non-null   float64\n",
      " 6   ProsperRating (Alpha)      84853 non-null   object \n",
      " 7   ProsperScore               84853 non-null   float64\n",
      " 8   ListingCategory (numeric)  113937 non-null  int64  \n",
      " 9   EmploymentStatus           111682 non-null  object \n",
      " 10  Occupation                 110349 non-null  object \n",
      " 11  EmploymentStatusDuration   106312 non-null  float64\n",
      " 12  IsBorrowerHomeowner        113937 non-null  bool   \n",
      " 13  IncomeVerifiable           113937 non-null  bool   \n",
      " 14  StatedMonthlyIncome        113937 non-null  float64\n",
      " 15  MonthlyLoanPayment         113937 non-null  float64\n",
      " 16  Recommendations            113937 non-null  int64  \n",
      " 17  DebtToIncomeRatio          105383 non-null  float64\n",
      " 18  LoanOriginalAmount         113937 non-null  int64  \n",
      " 19  PercentFunded              113937 non-null  float64\n",
      " 20  IncomeRange                113937 non-null  object \n",
      " 21  Investors                  113937 non-null  int64  \n",
      " 22  BorrowerState              108422 non-null  object \n",
      "dtypes: bool(2), float64(10), int64(5), object(6)\n",
      "memory usage: 18.5+ MB\n"
     ]
    }
   ],
   "source": [
    "df_loan.info()"
   ]
  },
  {
   "cell_type": "code",
   "execution_count": 135,
   "metadata": {},
   "outputs": [
    {
     "data": {
      "text/html": [
       "<div>\n",
       "<style scoped>\n",
       "    .dataframe tbody tr th:only-of-type {\n",
       "        vertical-align: middle;\n",
       "    }\n",
       "\n",
       "    .dataframe tbody tr th {\n",
       "        vertical-align: top;\n",
       "    }\n",
       "\n",
       "    .dataframe thead th {\n",
       "        text-align: right;\n",
       "    }\n",
       "</style>\n",
       "<table border=\"1\" class=\"dataframe\">\n",
       "  <thead>\n",
       "    <tr style=\"text-align: right;\">\n",
       "      <th></th>\n",
       "      <th>Term</th>\n",
       "      <th>EstimatedEffectiveYield</th>\n",
       "      <th>BorrowerAPR</th>\n",
       "      <th>BorrowerRate</th>\n",
       "      <th>ProsperRating (numeric)</th>\n",
       "      <th>ProsperScore</th>\n",
       "      <th>ListingCategory (numeric)</th>\n",
       "      <th>EmploymentStatusDuration</th>\n",
       "      <th>StatedMonthlyIncome</th>\n",
       "      <th>MonthlyLoanPayment</th>\n",
       "      <th>Recommendations</th>\n",
       "      <th>DebtToIncomeRatio</th>\n",
       "      <th>LoanOriginalAmount</th>\n",
       "      <th>PercentFunded</th>\n",
       "      <th>Investors</th>\n",
       "    </tr>\n",
       "  </thead>\n",
       "  <tbody>\n",
       "    <tr>\n",
       "      <th>count</th>\n",
       "      <td>113937.000000</td>\n",
       "      <td>84853.000000</td>\n",
       "      <td>113912.000000</td>\n",
       "      <td>113937.000000</td>\n",
       "      <td>84853.000000</td>\n",
       "      <td>84853.000000</td>\n",
       "      <td>113937.000000</td>\n",
       "      <td>106312.000000</td>\n",
       "      <td>1.139370e+05</td>\n",
       "      <td>113937.000000</td>\n",
       "      <td>113937.000000</td>\n",
       "      <td>105383.000000</td>\n",
       "      <td>113937.00000</td>\n",
       "      <td>113937.000000</td>\n",
       "      <td>113937.000000</td>\n",
       "    </tr>\n",
       "    <tr>\n",
       "      <th>mean</th>\n",
       "      <td>40.830248</td>\n",
       "      <td>0.168661</td>\n",
       "      <td>0.218828</td>\n",
       "      <td>0.192764</td>\n",
       "      <td>4.072243</td>\n",
       "      <td>5.950067</td>\n",
       "      <td>2.774209</td>\n",
       "      <td>96.071582</td>\n",
       "      <td>5.608026e+03</td>\n",
       "      <td>272.475783</td>\n",
       "      <td>0.048027</td>\n",
       "      <td>0.275947</td>\n",
       "      <td>8337.01385</td>\n",
       "      <td>0.998584</td>\n",
       "      <td>80.475228</td>\n",
       "    </tr>\n",
       "    <tr>\n",
       "      <th>std</th>\n",
       "      <td>10.436212</td>\n",
       "      <td>0.068467</td>\n",
       "      <td>0.080364</td>\n",
       "      <td>0.074818</td>\n",
       "      <td>1.673227</td>\n",
       "      <td>2.376501</td>\n",
       "      <td>3.996797</td>\n",
       "      <td>94.480605</td>\n",
       "      <td>7.478497e+03</td>\n",
       "      <td>192.697812</td>\n",
       "      <td>0.332353</td>\n",
       "      <td>0.551759</td>\n",
       "      <td>6245.80058</td>\n",
       "      <td>0.017919</td>\n",
       "      <td>103.239020</td>\n",
       "    </tr>\n",
       "    <tr>\n",
       "      <th>min</th>\n",
       "      <td>12.000000</td>\n",
       "      <td>-0.182700</td>\n",
       "      <td>0.006530</td>\n",
       "      <td>0.000000</td>\n",
       "      <td>1.000000</td>\n",
       "      <td>1.000000</td>\n",
       "      <td>0.000000</td>\n",
       "      <td>0.000000</td>\n",
       "      <td>0.000000e+00</td>\n",
       "      <td>0.000000</td>\n",
       "      <td>0.000000</td>\n",
       "      <td>0.000000</td>\n",
       "      <td>1000.00000</td>\n",
       "      <td>0.700000</td>\n",
       "      <td>1.000000</td>\n",
       "    </tr>\n",
       "    <tr>\n",
       "      <th>25%</th>\n",
       "      <td>36.000000</td>\n",
       "      <td>0.115670</td>\n",
       "      <td>0.156290</td>\n",
       "      <td>0.134000</td>\n",
       "      <td>3.000000</td>\n",
       "      <td>4.000000</td>\n",
       "      <td>1.000000</td>\n",
       "      <td>26.000000</td>\n",
       "      <td>3.200333e+03</td>\n",
       "      <td>131.620000</td>\n",
       "      <td>0.000000</td>\n",
       "      <td>0.140000</td>\n",
       "      <td>4000.00000</td>\n",
       "      <td>1.000000</td>\n",
       "      <td>2.000000</td>\n",
       "    </tr>\n",
       "    <tr>\n",
       "      <th>50%</th>\n",
       "      <td>36.000000</td>\n",
       "      <td>0.161500</td>\n",
       "      <td>0.209760</td>\n",
       "      <td>0.184000</td>\n",
       "      <td>4.000000</td>\n",
       "      <td>6.000000</td>\n",
       "      <td>1.000000</td>\n",
       "      <td>67.000000</td>\n",
       "      <td>4.666667e+03</td>\n",
       "      <td>217.740000</td>\n",
       "      <td>0.000000</td>\n",
       "      <td>0.220000</td>\n",
       "      <td>6500.00000</td>\n",
       "      <td>1.000000</td>\n",
       "      <td>44.000000</td>\n",
       "    </tr>\n",
       "    <tr>\n",
       "      <th>75%</th>\n",
       "      <td>36.000000</td>\n",
       "      <td>0.224300</td>\n",
       "      <td>0.283810</td>\n",
       "      <td>0.250000</td>\n",
       "      <td>5.000000</td>\n",
       "      <td>8.000000</td>\n",
       "      <td>3.000000</td>\n",
       "      <td>137.000000</td>\n",
       "      <td>6.825000e+03</td>\n",
       "      <td>371.580000</td>\n",
       "      <td>0.000000</td>\n",
       "      <td>0.320000</td>\n",
       "      <td>12000.00000</td>\n",
       "      <td>1.000000</td>\n",
       "      <td>115.000000</td>\n",
       "    </tr>\n",
       "    <tr>\n",
       "      <th>max</th>\n",
       "      <td>60.000000</td>\n",
       "      <td>0.319900</td>\n",
       "      <td>0.512290</td>\n",
       "      <td>0.497500</td>\n",
       "      <td>7.000000</td>\n",
       "      <td>11.000000</td>\n",
       "      <td>20.000000</td>\n",
       "      <td>755.000000</td>\n",
       "      <td>1.750003e+06</td>\n",
       "      <td>2251.510000</td>\n",
       "      <td>39.000000</td>\n",
       "      <td>10.010000</td>\n",
       "      <td>35000.00000</td>\n",
       "      <td>1.012500</td>\n",
       "      <td>1189.000000</td>\n",
       "    </tr>\n",
       "  </tbody>\n",
       "</table>\n",
       "</div>"
      ],
      "text/plain": [
       "                Term  EstimatedEffectiveYield    BorrowerAPR   BorrowerRate  \\\n",
       "count  113937.000000             84853.000000  113912.000000  113937.000000   \n",
       "mean       40.830248                 0.168661       0.218828       0.192764   \n",
       "std        10.436212                 0.068467       0.080364       0.074818   \n",
       "min        12.000000                -0.182700       0.006530       0.000000   \n",
       "25%        36.000000                 0.115670       0.156290       0.134000   \n",
       "50%        36.000000                 0.161500       0.209760       0.184000   \n",
       "75%        36.000000                 0.224300       0.283810       0.250000   \n",
       "max        60.000000                 0.319900       0.512290       0.497500   \n",
       "\n",
       "       ProsperRating (numeric)  ProsperScore  ListingCategory (numeric)  \\\n",
       "count             84853.000000  84853.000000              113937.000000   \n",
       "mean                  4.072243      5.950067                   2.774209   \n",
       "std                   1.673227      2.376501                   3.996797   \n",
       "min                   1.000000      1.000000                   0.000000   \n",
       "25%                   3.000000      4.000000                   1.000000   \n",
       "50%                   4.000000      6.000000                   1.000000   \n",
       "75%                   5.000000      8.000000                   3.000000   \n",
       "max                   7.000000     11.000000                  20.000000   \n",
       "\n",
       "       EmploymentStatusDuration  StatedMonthlyIncome  MonthlyLoanPayment  \\\n",
       "count             106312.000000         1.139370e+05       113937.000000   \n",
       "mean                  96.071582         5.608026e+03          272.475783   \n",
       "std                   94.480605         7.478497e+03          192.697812   \n",
       "min                    0.000000         0.000000e+00            0.000000   \n",
       "25%                   26.000000         3.200333e+03          131.620000   \n",
       "50%                   67.000000         4.666667e+03          217.740000   \n",
       "75%                  137.000000         6.825000e+03          371.580000   \n",
       "max                  755.000000         1.750003e+06         2251.510000   \n",
       "\n",
       "       Recommendations  DebtToIncomeRatio  LoanOriginalAmount  PercentFunded  \\\n",
       "count    113937.000000      105383.000000        113937.00000  113937.000000   \n",
       "mean          0.048027           0.275947          8337.01385       0.998584   \n",
       "std           0.332353           0.551759          6245.80058       0.017919   \n",
       "min           0.000000           0.000000          1000.00000       0.700000   \n",
       "25%           0.000000           0.140000          4000.00000       1.000000   \n",
       "50%           0.000000           0.220000          6500.00000       1.000000   \n",
       "75%           0.000000           0.320000         12000.00000       1.000000   \n",
       "max          39.000000          10.010000         35000.00000       1.012500   \n",
       "\n",
       "           Investors  \n",
       "count  113937.000000  \n",
       "mean       80.475228  \n",
       "std       103.239020  \n",
       "min         1.000000  \n",
       "25%         2.000000  \n",
       "50%        44.000000  \n",
       "75%       115.000000  \n",
       "max      1189.000000  "
      ]
     },
     "execution_count": 135,
     "metadata": {},
     "output_type": "execute_result"
    }
   ],
   "source": [
    "df_loan.describe()"
   ]
  },
  {
   "cell_type": "code",
   "execution_count": 136,
   "metadata": {},
   "outputs": [
    {
     "data": {
      "text/plain": [
       "Term                             0\n",
       "LoanStatus                       0\n",
       "EstimatedEffectiveYield      29084\n",
       "BorrowerAPR                     25\n",
       "BorrowerRate                     0\n",
       "ProsperRating (numeric)      29084\n",
       "ProsperRating (Alpha)        29084\n",
       "ProsperScore                 29084\n",
       "ListingCategory (numeric)        0\n",
       "EmploymentStatus              2255\n",
       "Occupation                    3588\n",
       "EmploymentStatusDuration      7625\n",
       "IsBorrowerHomeowner              0\n",
       "IncomeVerifiable                 0\n",
       "StatedMonthlyIncome              0\n",
       "MonthlyLoanPayment               0\n",
       "Recommendations                  0\n",
       "DebtToIncomeRatio             8554\n",
       "LoanOriginalAmount               0\n",
       "PercentFunded                    0\n",
       "IncomeRange                      0\n",
       "Investors                        0\n",
       "BorrowerState                 5515\n",
       "dtype: int64"
      ]
     },
     "execution_count": 136,
     "metadata": {},
     "output_type": "execute_result"
    }
   ],
   "source": [
    "df_loan.isnull().sum()"
   ]
  },
  {
   "cell_type": "markdown",
   "metadata": {},
   "source": [
    "."
   ]
  },
  {
   "cell_type": "markdown",
   "metadata": {},
   "source": [
    "### Data Wrangling"
   ]
  },
  {
   "cell_type": "markdown",
   "metadata": {},
   "source": [
    "Define \n",
    ">There are  null values in our datasets"
   ]
  },
  {
   "cell_type": "markdown",
   "metadata": {},
   "source": [
    "> We cannot work with large amounts of null values in our dataset, wo we would drop them "
   ]
  },
  {
   "cell_type": "markdown",
   "metadata": {},
   "source": [
    "Code"
   ]
  },
  {
   "cell_type": "code",
   "execution_count": 137,
   "metadata": {},
   "outputs": [],
   "source": [
    "df_loan = df_loan.dropna()"
   ]
  },
  {
   "cell_type": "markdown",
   "metadata": {},
   "source": [
    "Test"
   ]
  },
  {
   "cell_type": "markdown",
   "metadata": {},
   "source": [
    "> Test there are no more null values\n",
    ">> If there are no more null values, the code below should output zero"
   ]
  },
  {
   "cell_type": "code",
   "execution_count": 138,
   "metadata": {},
   "outputs": [
    {
     "data": {
      "text/plain": [
       "0"
      ]
     },
     "execution_count": 138,
     "metadata": {},
     "output_type": "execute_result"
    }
   ],
   "source": [
    "df_loan.isnull().all().sum()"
   ]
  },
  {
   "cell_type": "markdown",
   "metadata": {},
   "source": [
    "> Now let's check if our dataset contain deuplicate values\n",
    ">> If there are no duplicates, the code below should output zero"
   ]
  },
  {
   "cell_type": "code",
   "execution_count": 139,
   "metadata": {},
   "outputs": [
    {
     "data": {
      "text/plain": [
       "0"
      ]
     },
     "execution_count": 139,
     "metadata": {},
     "output_type": "execute_result"
    }
   ],
   "source": [
    "df_loan.duplicated().sum()"
   ]
  },
  {
   "cell_type": "markdown",
   "metadata": {},
   "source": [
    "Define\n",
    "> There is inappropriate naming of some of the features, we would have to rename them "
   ]
  },
  {
   "cell_type": "markdown",
   "metadata": {},
   "source": [
    "Code"
   ]
  },
  {
   "cell_type": "code",
   "execution_count": 140,
   "metadata": {},
   "outputs": [],
   "source": [
    "columns_to_rename ={'ProsperRating (Alpha)': 'prosperAlphaRating', \n",
    "                        'ProsperRating (numeric)': 'prosperNumericRating',\n",
    "                        'ListingCategory (numeric)' : 'listingCategoryNumeric'\n",
    "                       }"
   ]
  },
  {
   "cell_type": "code",
   "execution_count": 141,
   "metadata": {},
   "outputs": [],
   "source": [
    "df_loan = df_loan.rename(columns=columns_to_rename)"
   ]
  },
  {
   "cell_type": "markdown",
   "metadata": {},
   "source": [
    "Test"
   ]
  },
  {
   "cell_type": "code",
   "execution_count": 142,
   "metadata": {},
   "outputs": [
    {
     "name": "stdout",
     "output_type": "stream",
     "text": [
      "ProsperRating (Alpha)does not exist\n",
      "ProsperRating (numeric)does not exist\n",
      "ListingCategory (numeric)does not exist\n"
     ]
    }
   ],
   "source": [
    "old_cols = ['ProsperRating (Alpha)','ProsperRating (numeric)','ListingCategory (numeric)']\n",
    "for i in old_cols:\n",
    "    assert i not in df_loan.columns.to_list()\n",
    "    print(i + 'does not exist')"
   ]
  },
  {
   "cell_type": "markdown",
   "metadata": {},
   "source": [
    "> We also need to make all our column names lowercase and separated by _"
   ]
  },
  {
   "cell_type": "code",
   "execution_count": 143,
   "metadata": {},
   "outputs": [],
   "source": [
    "# lower case all variable names\n",
    "df_loan.columns = df_loan.columns.str.replace('[\\W]', '')\\\n",
    "          .str.replace('(?<!^)([A-Z])', r'_\\1')\\\n",
    "          .str.lower()"
   ]
  },
  {
   "cell_type": "markdown",
   "metadata": {},
   "source": [
    "> Confirm all our columns are well formatted"
   ]
  },
  {
   "cell_type": "code",
   "execution_count": 144,
   "metadata": {},
   "outputs": [
    {
     "data": {
      "text/plain": [
       "Index(['term', 'loan_status', 'estimated_effective_yield', 'borrower_a_p_r',\n",
       "       'borrower_rate', 'prosper_numeric_rating', 'prosper_alpha_rating',\n",
       "       'prosper_score', 'listing_category_numeric', 'employment_status',\n",
       "       'occupation', 'employment_status_duration', 'is_borrower_homeowner',\n",
       "       'income_verifiable', 'stated_monthly_income', 'monthly_loan_payment',\n",
       "       'recommendations', 'debt_to_income_ratio', 'loan_original_amount',\n",
       "       'percent_funded', 'income_range', 'investors', 'borrower_state'],\n",
       "      dtype='object')"
      ]
     },
     "execution_count": 144,
     "metadata": {},
     "output_type": "execute_result"
    }
   ],
   "source": [
    "df_loan.columns"
   ]
  },
  {
   "cell_type": "markdown",
   "metadata": {},
   "source": [
    "> Let's check our data types\n",
    ">> We need to be sure our features have the correct data types"
   ]
  },
  {
   "cell_type": "code",
   "execution_count": 146,
   "metadata": {},
   "outputs": [
    {
     "data": {
      "text/plain": [
       "term                            int64\n",
       "loan_status                    object\n",
       "estimated_effective_yield     float64\n",
       "borrower_a_p_r                float64\n",
       "borrower_rate                 float64\n",
       "prosper_numeric_rating        float64\n",
       "prosper_alpha_rating           object\n",
       "prosper_score                 float64\n",
       "listing_category_numeric        int64\n",
       "employment_status              object\n",
       "occupation                     object\n",
       "employment_status_duration    float64\n",
       "is_borrower_homeowner            bool\n",
       "income_verifiable                bool\n",
       "stated_monthly_income         float64\n",
       "monthly_loan_payment          float64\n",
       "recommendations                 int64\n",
       "debt_to_income_ratio          float64\n",
       "loan_original_amount            int64\n",
       "percent_funded                float64\n",
       "income_range                   object\n",
       "investors                       int64\n",
       "borrower_state                 object\n",
       "dtype: object"
      ]
     },
     "execution_count": 146,
     "metadata": {},
     "output_type": "execute_result"
    }
   ],
   "source": [
    "df_loan.dtypes"
   ]
  },
  {
   "cell_type": "markdown",
   "metadata": {},
   "source": [
    "> From the document that contains our varaible description, term should be treated a  asa categorialc variable\n",
    "\n",
    "> We have to convert term to catgoricla datatype so we can construct visuals like bar chart/count plot on it"
   ]
  },
  {
   "cell_type": "code",
   "execution_count": 147,
   "metadata": {},
   "outputs": [],
   "source": [
    "#convert term to  categorical variable\n",
    "df_loan.term = df_loan.term.astype('category')"
   ]
  },
  {
   "cell_type": "code",
   "execution_count": 148,
   "metadata": {},
   "outputs": [
    {
     "data": {
      "text/plain": [
       "term                          category\n",
       "loan_status                     object\n",
       "estimated_effective_yield      float64\n",
       "borrower_a_p_r                 float64\n",
       "borrower_rate                  float64\n",
       "prosper_numeric_rating         float64\n",
       "prosper_alpha_rating            object\n",
       "prosper_score                  float64\n",
       "listing_category_numeric         int64\n",
       "employment_status               object\n",
       "occupation                      object\n",
       "employment_status_duration     float64\n",
       "is_borrower_homeowner             bool\n",
       "income_verifiable                 bool\n",
       "stated_monthly_income          float64\n",
       "monthly_loan_payment           float64\n",
       "recommendations                  int64\n",
       "debt_to_income_ratio           float64\n",
       "loan_original_amount             int64\n",
       "percent_funded                 float64\n",
       "income_range                    object\n",
       "investors                        int64\n",
       "borrower_state                  object\n",
       "dtype: object"
      ]
     },
     "execution_count": 148,
     "metadata": {},
     "output_type": "execute_result"
    }
   ],
   "source": [
    "df_loan.dtypes"
   ]
  },
  {
   "cell_type": "code",
   "execution_count": null,
   "metadata": {},
   "outputs": [],
   "source": []
  },
  {
   "cell_type": "code",
   "execution_count": null,
   "metadata": {},
   "outputs": [],
   "source": []
  },
  {
   "cell_type": "code",
   "execution_count": null,
   "metadata": {},
   "outputs": [],
   "source": []
  },
  {
   "cell_type": "code",
   "execution_count": null,
   "metadata": {},
   "outputs": [],
   "source": []
  },
  {
   "cell_type": "code",
   "execution_count": null,
   "metadata": {},
   "outputs": [],
   "source": []
  },
  {
   "cell_type": "markdown",
   "metadata": {},
   "source": [
    "## Univariate Exploration\n",
    "\n",
    "> In this section, investigate distributions of individual variables. If\n",
    "you see unusual points or outliers, take a deeper look to clean things up\n",
    "and prepare yourself to look at relationships between variables."
   ]
  },
  {
   "cell_type": "code",
   "execution_count": null,
   "metadata": {},
   "outputs": [],
   "source": []
  },
  {
   "cell_type": "markdown",
   "metadata": {},
   "source": [
    "> Make sure that, after every plot or related series of plots, that you\n",
    "include a Markdown cell with comments about what you observed, and what\n",
    "you plan on investigating next."
   ]
  },
  {
   "cell_type": "code",
   "execution_count": null,
   "metadata": {},
   "outputs": [],
   "source": []
  },
  {
   "cell_type": "markdown",
   "metadata": {},
   "source": [
    "### Discuss the distribution(s) of your variable(s) of interest. Were there any unusual points? Did you need to perform any transformations?\n",
    "\n",
    "> Your answer here!\n",
    "\n",
    "### Of the features you investigated, were there any unusual distributions? Did you perform any operations on the data to tidy, adjust, or change the form of the data? If so, why did you do this?\n",
    "\n",
    "> Your answer here!"
   ]
  },
  {
   "cell_type": "markdown",
   "metadata": {},
   "source": [
    "## Bivariate Exploration\n",
    "\n",
    "> In this section, investigate relationships between pairs of variables in your\n",
    "data. Make sure the variables that you cover here have been introduced in some\n",
    "fashion in the previous section (univariate exploration)."
   ]
  },
  {
   "cell_type": "code",
   "execution_count": null,
   "metadata": {},
   "outputs": [],
   "source": []
  },
  {
   "cell_type": "markdown",
   "metadata": {},
   "source": [
    "### Talk about some of the relationships you observed in this part of the investigation. How did the feature(s) of interest vary with other features in the dataset?\n",
    "\n",
    "> Your answer here!\n",
    "\n",
    "### Did you observe any interesting relationships between the other features (not the main feature(s) of interest)?\n",
    "\n",
    "> Your answer here!"
   ]
  },
  {
   "cell_type": "markdown",
   "metadata": {},
   "source": [
    "## Multivariate Exploration\n",
    "\n",
    "> Create plots of three or more variables to investigate your data even\n",
    "further. Make sure that your investigations are justified, and follow from\n",
    "your work in the previous sections."
   ]
  },
  {
   "cell_type": "code",
   "execution_count": null,
   "metadata": {},
   "outputs": [],
   "source": []
  },
  {
   "cell_type": "markdown",
   "metadata": {},
   "source": [
    "### Talk about some of the relationships you observed in this part of the investigation. Were there features that strengthened each other in terms of looking at your feature(s) of interest?\n",
    "\n",
    "> Your answer here!\n",
    "\n",
    "### Were there any interesting or surprising interactions between features?\n",
    "\n",
    "> Your answer here!"
   ]
  },
  {
   "cell_type": "markdown",
   "metadata": {},
   "source": [
    "> At the end of your report, make sure that you export the notebook as an\n",
    "html file from the `File > Download as... > HTML` menu. Make sure you keep\n",
    "track of where the exported file goes, so you can put it in the same folder\n",
    "as this notebook for project submission. Also, make sure you remove all of\n",
    "the quote-formatted guide notes like this one before you finish your report!"
   ]
  },
  {
   "cell_type": "code",
   "execution_count": null,
   "metadata": {},
   "outputs": [],
   "source": []
  }
 ],
 "metadata": {
  "kernelspec": {
   "display_name": "Python 3",
   "language": "python",
   "name": "python3"
  },
  "language_info": {
   "codemirror_mode": {
    "name": "ipython",
    "version": 3
   },
   "file_extension": ".py",
   "mimetype": "text/x-python",
   "name": "python",
   "nbconvert_exporter": "python",
   "pygments_lexer": "ipython3",
   "version": "3.6.9"
  }
 },
 "nbformat": 4,
 "nbformat_minor": 4
}
