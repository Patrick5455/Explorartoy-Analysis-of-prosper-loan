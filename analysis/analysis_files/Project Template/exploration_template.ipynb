{
 "cells": [
  {
   "cell_type": "markdown",
   "metadata": {},
   "source": [
    "# (Exploration and Visualization of Prosper loans)\n",
    "\n",
    "## Patrick Ojunde\n",
    "\n",
    "<!-- ## Preliminary Wrangling\n",
    " -->\n",
    "## Table of Contents\n",
    "<ul>\n",
    "<li><a href=\"#introduce\">Introduction</a></li>\n",
    "<li><a href=\"#obj\">Objective</a></li>\n",
    "<li><a href=\"#wrangle\">Data Wrangling</a></li>\n",
    "<li><a href=\"#uni\">Univariate exploration</a></li>\n",
    "<li><a href=\"#bi\">Bivariate exploration</a></li> \n",
    "<li><a href=\"#multi\">Multivariate exploration</a></li>\n",
    "<li><a href=\"#insights\">Analysis Summary & Insights</a></li>  \n",
    "<li><a href=\"#conclude\">Conclusions</a></li>\n",
    "</ul>"
   ]
  },
  {
   "cell_type": "markdown",
   "metadata": {},
   "source": [
    "<a id='introduce'></a>\n",
    "\n",
    "### Introduction\n",
    "\n",
    "> The dataset is composed of  113,937 rows (uniquely idenifying a loan) and 81 variables that describes each loan some of which includes loan amount, borrower rate (or interest rate), current loan status, and borrower income.\n",
    "\n",
    "> More information about this dataset can be found here: https://docs.google.com/spreadsheets/d/1gDyi_L4UvIrLTEC6Wri5nbaMmkGmLQBk-Yx3z0XDEtI/edit#gid=0\n"
   ]
  },
  {
   "cell_type": "markdown",
   "metadata": {},
   "source": [
    "<a id='obj'></a>\n",
    "    \n",
    "### Objective\n",
    "    \n",
    "> The objective of this analysis and visualization activity is to come up with interesting and actionable insghts from the loan data\n",
    "\n",
    "> We also want to identify what featrues are suitable for predicting the success of a loan application"
   ]
  },
  {
   "cell_type": "markdown",
   "metadata": {},
   "source": [
    ">> Importing required libraries"
   ]
  },
  {
   "cell_type": "code",
   "execution_count": 253,
   "metadata": {},
   "outputs": [],
   "source": [
    "# import all packages and set plots to be embedded inline\n",
    "import numpy as np\n",
    "import pandas as pd \n",
    "import matplotlib.pyplot as plt\n",
    "import seaborn as sb\n",
    "\n",
    "%matplotlib inline"
   ]
  },
  {
   "cell_type": "markdown",
   "metadata": {},
   "source": [
    "<!-- > Load in your dataset and describe its properties through the questions below.\n",
    "Try and motivate your exploration goals through this section. -->"
   ]
  },
  {
   "cell_type": "code",
   "execution_count": 254,
   "metadata": {},
   "outputs": [],
   "source": [
    "df_main = pd.read_csv('prosperLoanData.csv')"
   ]
  },
  {
   "cell_type": "code",
   "execution_count": 255,
   "metadata": {},
   "outputs": [
    {
     "data": {
      "text/html": [
       "<div>\n",
       "<style scoped>\n",
       "    .dataframe tbody tr th:only-of-type {\n",
       "        vertical-align: middle;\n",
       "    }\n",
       "\n",
       "    .dataframe tbody tr th {\n",
       "        vertical-align: top;\n",
       "    }\n",
       "\n",
       "    .dataframe thead th {\n",
       "        text-align: right;\n",
       "    }\n",
       "</style>\n",
       "<table border=\"1\" class=\"dataframe\">\n",
       "  <thead>\n",
       "    <tr style=\"text-align: right;\">\n",
       "      <th></th>\n",
       "      <th>ListingKey</th>\n",
       "      <th>ListingNumber</th>\n",
       "      <th>ListingCreationDate</th>\n",
       "      <th>CreditGrade</th>\n",
       "      <th>Term</th>\n",
       "      <th>LoanStatus</th>\n",
       "      <th>ClosedDate</th>\n",
       "      <th>BorrowerAPR</th>\n",
       "      <th>BorrowerRate</th>\n",
       "      <th>LenderYield</th>\n",
       "      <th>...</th>\n",
       "      <th>LP_ServiceFees</th>\n",
       "      <th>LP_CollectionFees</th>\n",
       "      <th>LP_GrossPrincipalLoss</th>\n",
       "      <th>LP_NetPrincipalLoss</th>\n",
       "      <th>LP_NonPrincipalRecoverypayments</th>\n",
       "      <th>PercentFunded</th>\n",
       "      <th>Recommendations</th>\n",
       "      <th>InvestmentFromFriendsCount</th>\n",
       "      <th>InvestmentFromFriendsAmount</th>\n",
       "      <th>Investors</th>\n",
       "    </tr>\n",
       "  </thead>\n",
       "  <tbody>\n",
       "    <tr>\n",
       "      <th>0</th>\n",
       "      <td>1021339766868145413AB3B</td>\n",
       "      <td>193129</td>\n",
       "      <td>2007-08-26 19:09:29.263000000</td>\n",
       "      <td>C</td>\n",
       "      <td>36</td>\n",
       "      <td>Completed</td>\n",
       "      <td>2009-08-14 00:00:00</td>\n",
       "      <td>0.16516</td>\n",
       "      <td>0.1580</td>\n",
       "      <td>0.1380</td>\n",
       "      <td>...</td>\n",
       "      <td>-133.18</td>\n",
       "      <td>0.0</td>\n",
       "      <td>0.0</td>\n",
       "      <td>0.0</td>\n",
       "      <td>0.0</td>\n",
       "      <td>1.0</td>\n",
       "      <td>0</td>\n",
       "      <td>0</td>\n",
       "      <td>0.0</td>\n",
       "      <td>258</td>\n",
       "    </tr>\n",
       "    <tr>\n",
       "      <th>1</th>\n",
       "      <td>10273602499503308B223C1</td>\n",
       "      <td>1209647</td>\n",
       "      <td>2014-02-27 08:28:07.900000000</td>\n",
       "      <td>NaN</td>\n",
       "      <td>36</td>\n",
       "      <td>Current</td>\n",
       "      <td>NaN</td>\n",
       "      <td>0.12016</td>\n",
       "      <td>0.0920</td>\n",
       "      <td>0.0820</td>\n",
       "      <td>...</td>\n",
       "      <td>0.00</td>\n",
       "      <td>0.0</td>\n",
       "      <td>0.0</td>\n",
       "      <td>0.0</td>\n",
       "      <td>0.0</td>\n",
       "      <td>1.0</td>\n",
       "      <td>0</td>\n",
       "      <td>0</td>\n",
       "      <td>0.0</td>\n",
       "      <td>1</td>\n",
       "    </tr>\n",
       "    <tr>\n",
       "      <th>2</th>\n",
       "      <td>0EE9337825851032864889A</td>\n",
       "      <td>81716</td>\n",
       "      <td>2007-01-05 15:00:47.090000000</td>\n",
       "      <td>HR</td>\n",
       "      <td>36</td>\n",
       "      <td>Completed</td>\n",
       "      <td>2009-12-17 00:00:00</td>\n",
       "      <td>0.28269</td>\n",
       "      <td>0.2750</td>\n",
       "      <td>0.2400</td>\n",
       "      <td>...</td>\n",
       "      <td>-24.20</td>\n",
       "      <td>0.0</td>\n",
       "      <td>0.0</td>\n",
       "      <td>0.0</td>\n",
       "      <td>0.0</td>\n",
       "      <td>1.0</td>\n",
       "      <td>0</td>\n",
       "      <td>0</td>\n",
       "      <td>0.0</td>\n",
       "      <td>41</td>\n",
       "    </tr>\n",
       "    <tr>\n",
       "      <th>3</th>\n",
       "      <td>0EF5356002482715299901A</td>\n",
       "      <td>658116</td>\n",
       "      <td>2012-10-22 11:02:35.010000000</td>\n",
       "      <td>NaN</td>\n",
       "      <td>36</td>\n",
       "      <td>Current</td>\n",
       "      <td>NaN</td>\n",
       "      <td>0.12528</td>\n",
       "      <td>0.0974</td>\n",
       "      <td>0.0874</td>\n",
       "      <td>...</td>\n",
       "      <td>-108.01</td>\n",
       "      <td>0.0</td>\n",
       "      <td>0.0</td>\n",
       "      <td>0.0</td>\n",
       "      <td>0.0</td>\n",
       "      <td>1.0</td>\n",
       "      <td>0</td>\n",
       "      <td>0</td>\n",
       "      <td>0.0</td>\n",
       "      <td>158</td>\n",
       "    </tr>\n",
       "    <tr>\n",
       "      <th>4</th>\n",
       "      <td>0F023589499656230C5E3E2</td>\n",
       "      <td>909464</td>\n",
       "      <td>2013-09-14 18:38:39.097000000</td>\n",
       "      <td>NaN</td>\n",
       "      <td>36</td>\n",
       "      <td>Current</td>\n",
       "      <td>NaN</td>\n",
       "      <td>0.24614</td>\n",
       "      <td>0.2085</td>\n",
       "      <td>0.1985</td>\n",
       "      <td>...</td>\n",
       "      <td>-60.27</td>\n",
       "      <td>0.0</td>\n",
       "      <td>0.0</td>\n",
       "      <td>0.0</td>\n",
       "      <td>0.0</td>\n",
       "      <td>1.0</td>\n",
       "      <td>0</td>\n",
       "      <td>0</td>\n",
       "      <td>0.0</td>\n",
       "      <td>20</td>\n",
       "    </tr>\n",
       "  </tbody>\n",
       "</table>\n",
       "<p>5 rows × 81 columns</p>\n",
       "</div>"
      ],
      "text/plain": [
       "                ListingKey  ListingNumber            ListingCreationDate  \\\n",
       "0  1021339766868145413AB3B         193129  2007-08-26 19:09:29.263000000   \n",
       "1  10273602499503308B223C1        1209647  2014-02-27 08:28:07.900000000   \n",
       "2  0EE9337825851032864889A          81716  2007-01-05 15:00:47.090000000   \n",
       "3  0EF5356002482715299901A         658116  2012-10-22 11:02:35.010000000   \n",
       "4  0F023589499656230C5E3E2         909464  2013-09-14 18:38:39.097000000   \n",
       "\n",
       "  CreditGrade  Term LoanStatus           ClosedDate  BorrowerAPR  \\\n",
       "0           C    36  Completed  2009-08-14 00:00:00      0.16516   \n",
       "1         NaN    36    Current                  NaN      0.12016   \n",
       "2          HR    36  Completed  2009-12-17 00:00:00      0.28269   \n",
       "3         NaN    36    Current                  NaN      0.12528   \n",
       "4         NaN    36    Current                  NaN      0.24614   \n",
       "\n",
       "   BorrowerRate  LenderYield  ...  LP_ServiceFees  LP_CollectionFees  \\\n",
       "0        0.1580       0.1380  ...         -133.18                0.0   \n",
       "1        0.0920       0.0820  ...            0.00                0.0   \n",
       "2        0.2750       0.2400  ...          -24.20                0.0   \n",
       "3        0.0974       0.0874  ...         -108.01                0.0   \n",
       "4        0.2085       0.1985  ...          -60.27                0.0   \n",
       "\n",
       "   LP_GrossPrincipalLoss  LP_NetPrincipalLoss LP_NonPrincipalRecoverypayments  \\\n",
       "0                    0.0                  0.0                             0.0   \n",
       "1                    0.0                  0.0                             0.0   \n",
       "2                    0.0                  0.0                             0.0   \n",
       "3                    0.0                  0.0                             0.0   \n",
       "4                    0.0                  0.0                             0.0   \n",
       "\n",
       "   PercentFunded  Recommendations InvestmentFromFriendsCount  \\\n",
       "0            1.0                0                          0   \n",
       "1            1.0                0                          0   \n",
       "2            1.0                0                          0   \n",
       "3            1.0                0                          0   \n",
       "4            1.0                0                          0   \n",
       "\n",
       "  InvestmentFromFriendsAmount Investors  \n",
       "0                         0.0       258  \n",
       "1                         0.0         1  \n",
       "2                         0.0        41  \n",
       "3                         0.0       158  \n",
       "4                         0.0        20  \n",
       "\n",
       "[5 rows x 81 columns]"
      ]
     },
     "execution_count": 255,
     "metadata": {},
     "output_type": "execute_result"
    }
   ],
   "source": [
    "df_main.head()"
   ]
  },
  {
   "cell_type": "markdown",
   "metadata": {},
   "source": [
    "<!-- ### What is the structure of your dataset? -->"
   ]
  },
  {
   "cell_type": "markdown",
   "metadata": {},
   "source": [
    "### Exlpore qualitative and quantitive features of datasets"
   ]
  },
  {
   "cell_type": "code",
   "execution_count": 256,
   "metadata": {},
   "outputs": [
    {
     "name": "stdout",
     "output_type": "stream",
     "text": [
      "No of Rows: 113937\n",
      "No of Columns: 81\n"
     ]
    }
   ],
   "source": [
    "rows= df_main.shape[0]\n",
    "columns = df_main.shape[1]\n",
    "print(f'No of Rows: {rows}\\nNo of Columns: {columns}')"
   ]
  },
  {
   "cell_type": "markdown",
   "metadata": {},
   "source": [
    "> Let us firstly have a look at our columns and determine which ones ware suitable for the objective of this analysis"
   ]
  },
  {
   "cell_type": "code",
   "execution_count": 257,
   "metadata": {},
   "outputs": [
    {
     "name": "stdout",
     "output_type": "stream",
     "text": [
      "<class 'pandas.core.frame.DataFrame'>\n",
      "RangeIndex: 113937 entries, 0 to 113936\n",
      "Data columns (total 81 columns):\n",
      " #   Column                               Non-Null Count   Dtype  \n",
      "---  ------                               --------------   -----  \n",
      " 0   ListingKey                           113937 non-null  object \n",
      " 1   ListingNumber                        113937 non-null  int64  \n",
      " 2   ListingCreationDate                  113937 non-null  object \n",
      " 3   CreditGrade                          28953 non-null   object \n",
      " 4   Term                                 113937 non-null  int64  \n",
      " 5   LoanStatus                           113937 non-null  object \n",
      " 6   ClosedDate                           55089 non-null   object \n",
      " 7   BorrowerAPR                          113912 non-null  float64\n",
      " 8   BorrowerRate                         113937 non-null  float64\n",
      " 9   LenderYield                          113937 non-null  float64\n",
      " 10  EstimatedEffectiveYield              84853 non-null   float64\n",
      " 11  EstimatedLoss                        84853 non-null   float64\n",
      " 12  EstimatedReturn                      84853 non-null   float64\n",
      " 13  ProsperRating (numeric)              84853 non-null   float64\n",
      " 14  ProsperRating (Alpha)                84853 non-null   object \n",
      " 15  ProsperScore                         84853 non-null   float64\n",
      " 16  ListingCategory (numeric)            113937 non-null  int64  \n",
      " 17  BorrowerState                        108422 non-null  object \n",
      " 18  Occupation                           110349 non-null  object \n",
      " 19  EmploymentStatus                     111682 non-null  object \n",
      " 20  EmploymentStatusDuration             106312 non-null  float64\n",
      " 21  IsBorrowerHomeowner                  113937 non-null  bool   \n",
      " 22  CurrentlyInGroup                     113937 non-null  bool   \n",
      " 23  GroupKey                             13341 non-null   object \n",
      " 24  DateCreditPulled                     113937 non-null  object \n",
      " 25  CreditScoreRangeLower                113346 non-null  float64\n",
      " 26  CreditScoreRangeUpper                113346 non-null  float64\n",
      " 27  FirstRecordedCreditLine              113240 non-null  object \n",
      " 28  CurrentCreditLines                   106333 non-null  float64\n",
      " 29  OpenCreditLines                      106333 non-null  float64\n",
      " 30  TotalCreditLinespast7years           113240 non-null  float64\n",
      " 31  OpenRevolvingAccounts                113937 non-null  int64  \n",
      " 32  OpenRevolvingMonthlyPayment          113937 non-null  float64\n",
      " 33  InquiriesLast6Months                 113240 non-null  float64\n",
      " 34  TotalInquiries                       112778 non-null  float64\n",
      " 35  CurrentDelinquencies                 113240 non-null  float64\n",
      " 36  AmountDelinquent                     106315 non-null  float64\n",
      " 37  DelinquenciesLast7Years              112947 non-null  float64\n",
      " 38  PublicRecordsLast10Years             113240 non-null  float64\n",
      " 39  PublicRecordsLast12Months            106333 non-null  float64\n",
      " 40  RevolvingCreditBalance               106333 non-null  float64\n",
      " 41  BankcardUtilization                  106333 non-null  float64\n",
      " 42  AvailableBankcardCredit              106393 non-null  float64\n",
      " 43  TotalTrades                          106393 non-null  float64\n",
      " 44  TradesNeverDelinquent (percentage)   106393 non-null  float64\n",
      " 45  TradesOpenedLast6Months              106393 non-null  float64\n",
      " 46  DebtToIncomeRatio                    105383 non-null  float64\n",
      " 47  IncomeRange                          113937 non-null  object \n",
      " 48  IncomeVerifiable                     113937 non-null  bool   \n",
      " 49  StatedMonthlyIncome                  113937 non-null  float64\n",
      " 50  LoanKey                              113937 non-null  object \n",
      " 51  TotalProsperLoans                    22085 non-null   float64\n",
      " 52  TotalProsperPaymentsBilled           22085 non-null   float64\n",
      " 53  OnTimeProsperPayments                22085 non-null   float64\n",
      " 54  ProsperPaymentsLessThanOneMonthLate  22085 non-null   float64\n",
      " 55  ProsperPaymentsOneMonthPlusLate      22085 non-null   float64\n",
      " 56  ProsperPrincipalBorrowed             22085 non-null   float64\n",
      " 57  ProsperPrincipalOutstanding          22085 non-null   float64\n",
      " 58  ScorexChangeAtTimeOfListing          18928 non-null   float64\n",
      " 59  LoanCurrentDaysDelinquent            113937 non-null  int64  \n",
      " 60  LoanFirstDefaultedCycleNumber        16952 non-null   float64\n",
      " 61  LoanMonthsSinceOrigination           113937 non-null  int64  \n",
      " 62  LoanNumber                           113937 non-null  int64  \n",
      " 63  LoanOriginalAmount                   113937 non-null  int64  \n",
      " 64  LoanOriginationDate                  113937 non-null  object \n",
      " 65  LoanOriginationQuarter               113937 non-null  object \n",
      " 66  MemberKey                            113937 non-null  object \n",
      " 67  MonthlyLoanPayment                   113937 non-null  float64\n",
      " 68  LP_CustomerPayments                  113937 non-null  float64\n",
      " 69  LP_CustomerPrincipalPayments         113937 non-null  float64\n",
      " 70  LP_InterestandFees                   113937 non-null  float64\n",
      " 71  LP_ServiceFees                       113937 non-null  float64\n",
      " 72  LP_CollectionFees                    113937 non-null  float64\n",
      " 73  LP_GrossPrincipalLoss                113937 non-null  float64\n",
      " 74  LP_NetPrincipalLoss                  113937 non-null  float64\n",
      " 75  LP_NonPrincipalRecoverypayments      113937 non-null  float64\n",
      " 76  PercentFunded                        113937 non-null  float64\n",
      " 77  Recommendations                      113937 non-null  int64  \n",
      " 78  InvestmentFromFriendsCount           113937 non-null  int64  \n",
      " 79  InvestmentFromFriendsAmount          113937 non-null  float64\n",
      " 80  Investors                            113937 non-null  int64  \n",
      "dtypes: bool(3), float64(50), int64(11), object(17)\n",
      "memory usage: 68.1+ MB\n"
     ]
    }
   ],
   "source": [
    "df_main.info()"
   ]
  },
  {
   "cell_type": "markdown",
   "metadata": {},
   "source": [
    "> Not all the data features are useful for our analysis, so we would work with the following `23 features`"
   ]
  },
  {
   "cell_type": "code",
   "execution_count": 258,
   "metadata": {},
   "outputs": [],
   "source": [
    "features_to_use = ['Term' , \n",
    "        'LoanStatus', \n",
    "        'EstimatedEffectiveYield' ,  \n",
    "        'BorrowerAPR' , \n",
    "        'BorrowerRate' , \n",
    "        'ProsperRating (numeric)',\n",
    "        'ProsperRating (Alpha)',\n",
    "        'ProsperScore',                     \n",
    "        'ListingCategory (numeric)', \n",
    "        'EmploymentStatus',\n",
    "        'Occupation', \n",
    "        'EmploymentStatusDuration', \n",
    "        'IsBorrowerHomeowner', \n",
    "        'IncomeVerifiable', \n",
    "        'StatedMonthlyIncome', \n",
    "        'MonthlyLoanPayment',\n",
    "        'Recommendations', \n",
    "        'DebtToIncomeRatio',\n",
    "        'LoanOriginalAmount' ,\n",
    "        'PercentFunded',\n",
    "        'IncomeRange',\n",
    "        'Investors',\n",
    "        'BorrowerState']"
   ]
  },
  {
   "cell_type": "markdown",
   "metadata": {},
   "source": [
    "> select the useful columns from the main dataframe"
   ]
  },
  {
   "cell_type": "code",
   "execution_count": 259,
   "metadata": {},
   "outputs": [
    {
     "data": {
      "text/html": [
       "<div>\n",
       "<style scoped>\n",
       "    .dataframe tbody tr th:only-of-type {\n",
       "        vertical-align: middle;\n",
       "    }\n",
       "\n",
       "    .dataframe tbody tr th {\n",
       "        vertical-align: top;\n",
       "    }\n",
       "\n",
       "    .dataframe thead th {\n",
       "        text-align: right;\n",
       "    }\n",
       "</style>\n",
       "<table border=\"1\" class=\"dataframe\">\n",
       "  <thead>\n",
       "    <tr style=\"text-align: right;\">\n",
       "      <th></th>\n",
       "      <th>Term</th>\n",
       "      <th>LoanStatus</th>\n",
       "      <th>EstimatedEffectiveYield</th>\n",
       "      <th>BorrowerAPR</th>\n",
       "      <th>BorrowerRate</th>\n",
       "      <th>ProsperRating (numeric)</th>\n",
       "      <th>ProsperRating (Alpha)</th>\n",
       "      <th>ProsperScore</th>\n",
       "      <th>ListingCategory (numeric)</th>\n",
       "      <th>EmploymentStatus</th>\n",
       "      <th>...</th>\n",
       "      <th>IncomeVerifiable</th>\n",
       "      <th>StatedMonthlyIncome</th>\n",
       "      <th>MonthlyLoanPayment</th>\n",
       "      <th>Recommendations</th>\n",
       "      <th>DebtToIncomeRatio</th>\n",
       "      <th>LoanOriginalAmount</th>\n",
       "      <th>PercentFunded</th>\n",
       "      <th>IncomeRange</th>\n",
       "      <th>Investors</th>\n",
       "      <th>BorrowerState</th>\n",
       "    </tr>\n",
       "  </thead>\n",
       "  <tbody>\n",
       "    <tr>\n",
       "      <th>0</th>\n",
       "      <td>36</td>\n",
       "      <td>Completed</td>\n",
       "      <td>NaN</td>\n",
       "      <td>0.16516</td>\n",
       "      <td>0.1580</td>\n",
       "      <td>NaN</td>\n",
       "      <td>NaN</td>\n",
       "      <td>NaN</td>\n",
       "      <td>0</td>\n",
       "      <td>Self-employed</td>\n",
       "      <td>...</td>\n",
       "      <td>True</td>\n",
       "      <td>3083.333333</td>\n",
       "      <td>330.43</td>\n",
       "      <td>0</td>\n",
       "      <td>0.17</td>\n",
       "      <td>9425</td>\n",
       "      <td>1.0</td>\n",
       "      <td>$25,000-49,999</td>\n",
       "      <td>258</td>\n",
       "      <td>CO</td>\n",
       "    </tr>\n",
       "    <tr>\n",
       "      <th>1</th>\n",
       "      <td>36</td>\n",
       "      <td>Current</td>\n",
       "      <td>0.07960</td>\n",
       "      <td>0.12016</td>\n",
       "      <td>0.0920</td>\n",
       "      <td>6.0</td>\n",
       "      <td>A</td>\n",
       "      <td>7.0</td>\n",
       "      <td>2</td>\n",
       "      <td>Employed</td>\n",
       "      <td>...</td>\n",
       "      <td>True</td>\n",
       "      <td>6125.000000</td>\n",
       "      <td>318.93</td>\n",
       "      <td>0</td>\n",
       "      <td>0.18</td>\n",
       "      <td>10000</td>\n",
       "      <td>1.0</td>\n",
       "      <td>$50,000-74,999</td>\n",
       "      <td>1</td>\n",
       "      <td>CO</td>\n",
       "    </tr>\n",
       "    <tr>\n",
       "      <th>2</th>\n",
       "      <td>36</td>\n",
       "      <td>Completed</td>\n",
       "      <td>NaN</td>\n",
       "      <td>0.28269</td>\n",
       "      <td>0.2750</td>\n",
       "      <td>NaN</td>\n",
       "      <td>NaN</td>\n",
       "      <td>NaN</td>\n",
       "      <td>0</td>\n",
       "      <td>Not available</td>\n",
       "      <td>...</td>\n",
       "      <td>True</td>\n",
       "      <td>2083.333333</td>\n",
       "      <td>123.32</td>\n",
       "      <td>0</td>\n",
       "      <td>0.06</td>\n",
       "      <td>3001</td>\n",
       "      <td>1.0</td>\n",
       "      <td>Not displayed</td>\n",
       "      <td>41</td>\n",
       "      <td>GA</td>\n",
       "    </tr>\n",
       "    <tr>\n",
       "      <th>3</th>\n",
       "      <td>36</td>\n",
       "      <td>Current</td>\n",
       "      <td>0.08490</td>\n",
       "      <td>0.12528</td>\n",
       "      <td>0.0974</td>\n",
       "      <td>6.0</td>\n",
       "      <td>A</td>\n",
       "      <td>9.0</td>\n",
       "      <td>16</td>\n",
       "      <td>Employed</td>\n",
       "      <td>...</td>\n",
       "      <td>True</td>\n",
       "      <td>2875.000000</td>\n",
       "      <td>321.45</td>\n",
       "      <td>0</td>\n",
       "      <td>0.15</td>\n",
       "      <td>10000</td>\n",
       "      <td>1.0</td>\n",
       "      <td>$25,000-49,999</td>\n",
       "      <td>158</td>\n",
       "      <td>GA</td>\n",
       "    </tr>\n",
       "    <tr>\n",
       "      <th>4</th>\n",
       "      <td>36</td>\n",
       "      <td>Current</td>\n",
       "      <td>0.18316</td>\n",
       "      <td>0.24614</td>\n",
       "      <td>0.2085</td>\n",
       "      <td>3.0</td>\n",
       "      <td>D</td>\n",
       "      <td>4.0</td>\n",
       "      <td>2</td>\n",
       "      <td>Employed</td>\n",
       "      <td>...</td>\n",
       "      <td>True</td>\n",
       "      <td>9583.333333</td>\n",
       "      <td>563.97</td>\n",
       "      <td>0</td>\n",
       "      <td>0.26</td>\n",
       "      <td>15000</td>\n",
       "      <td>1.0</td>\n",
       "      <td>$100,000+</td>\n",
       "      <td>20</td>\n",
       "      <td>MN</td>\n",
       "    </tr>\n",
       "  </tbody>\n",
       "</table>\n",
       "<p>5 rows × 23 columns</p>\n",
       "</div>"
      ],
      "text/plain": [
       "   Term LoanStatus  EstimatedEffectiveYield  BorrowerAPR  BorrowerRate  \\\n",
       "0    36  Completed                      NaN      0.16516        0.1580   \n",
       "1    36    Current                  0.07960      0.12016        0.0920   \n",
       "2    36  Completed                      NaN      0.28269        0.2750   \n",
       "3    36    Current                  0.08490      0.12528        0.0974   \n",
       "4    36    Current                  0.18316      0.24614        0.2085   \n",
       "\n",
       "   ProsperRating (numeric) ProsperRating (Alpha)  ProsperScore  \\\n",
       "0                      NaN                   NaN           NaN   \n",
       "1                      6.0                     A           7.0   \n",
       "2                      NaN                   NaN           NaN   \n",
       "3                      6.0                     A           9.0   \n",
       "4                      3.0                     D           4.0   \n",
       "\n",
       "   ListingCategory (numeric) EmploymentStatus  ... IncomeVerifiable  \\\n",
       "0                          0    Self-employed  ...             True   \n",
       "1                          2         Employed  ...             True   \n",
       "2                          0    Not available  ...             True   \n",
       "3                         16         Employed  ...             True   \n",
       "4                          2         Employed  ...             True   \n",
       "\n",
       "   StatedMonthlyIncome  MonthlyLoanPayment  Recommendations  \\\n",
       "0          3083.333333              330.43                0   \n",
       "1          6125.000000              318.93                0   \n",
       "2          2083.333333              123.32                0   \n",
       "3          2875.000000              321.45                0   \n",
       "4          9583.333333              563.97                0   \n",
       "\n",
       "   DebtToIncomeRatio  LoanOriginalAmount  PercentFunded     IncomeRange  \\\n",
       "0               0.17                9425            1.0  $25,000-49,999   \n",
       "1               0.18               10000            1.0  $50,000-74,999   \n",
       "2               0.06                3001            1.0   Not displayed   \n",
       "3               0.15               10000            1.0  $25,000-49,999   \n",
       "4               0.26               15000            1.0       $100,000+   \n",
       "\n",
       "   Investors  BorrowerState  \n",
       "0        258             CO  \n",
       "1          1             CO  \n",
       "2         41             GA  \n",
       "3        158             GA  \n",
       "4         20             MN  \n",
       "\n",
       "[5 rows x 23 columns]"
      ]
     },
     "execution_count": 259,
     "metadata": {},
     "output_type": "execute_result"
    }
   ],
   "source": [
    "df_loan = df_main[features_to_use]\n",
    "df_loan.head()"
   ]
  },
  {
   "cell_type": "markdown",
   "metadata": {},
   "source": [
    "> Let perform some assement of the selcted features"
   ]
  },
  {
   "cell_type": "code",
   "execution_count": 260,
   "metadata": {},
   "outputs": [
    {
     "name": "stdout",
     "output_type": "stream",
     "text": [
      "New Row Size: 113937\n",
      "New Column Size 23\n"
     ]
    }
   ],
   "source": [
    "rows = df_loan.shape[0]\n",
    "cols= df_loan.shape[1]\n",
    "print(f'New Row Size: {rows}\\nNew Column Size {cols}')"
   ]
  },
  {
   "cell_type": "code",
   "execution_count": 261,
   "metadata": {},
   "outputs": [
    {
     "name": "stdout",
     "output_type": "stream",
     "text": [
      "<class 'pandas.core.frame.DataFrame'>\n",
      "RangeIndex: 113937 entries, 0 to 113936\n",
      "Data columns (total 23 columns):\n",
      " #   Column                     Non-Null Count   Dtype  \n",
      "---  ------                     --------------   -----  \n",
      " 0   Term                       113937 non-null  int64  \n",
      " 1   LoanStatus                 113937 non-null  object \n",
      " 2   EstimatedEffectiveYield    84853 non-null   float64\n",
      " 3   BorrowerAPR                113912 non-null  float64\n",
      " 4   BorrowerRate               113937 non-null  float64\n",
      " 5   ProsperRating (numeric)    84853 non-null   float64\n",
      " 6   ProsperRating (Alpha)      84853 non-null   object \n",
      " 7   ProsperScore               84853 non-null   float64\n",
      " 8   ListingCategory (numeric)  113937 non-null  int64  \n",
      " 9   EmploymentStatus           111682 non-null  object \n",
      " 10  Occupation                 110349 non-null  object \n",
      " 11  EmploymentStatusDuration   106312 non-null  float64\n",
      " 12  IsBorrowerHomeowner        113937 non-null  bool   \n",
      " 13  IncomeVerifiable           113937 non-null  bool   \n",
      " 14  StatedMonthlyIncome        113937 non-null  float64\n",
      " 15  MonthlyLoanPayment         113937 non-null  float64\n",
      " 16  Recommendations            113937 non-null  int64  \n",
      " 17  DebtToIncomeRatio          105383 non-null  float64\n",
      " 18  LoanOriginalAmount         113937 non-null  int64  \n",
      " 19  PercentFunded              113937 non-null  float64\n",
      " 20  IncomeRange                113937 non-null  object \n",
      " 21  Investors                  113937 non-null  int64  \n",
      " 22  BorrowerState              108422 non-null  object \n",
      "dtypes: bool(2), float64(10), int64(5), object(6)\n",
      "memory usage: 18.5+ MB\n"
     ]
    }
   ],
   "source": [
    "df_loan.info()"
   ]
  },
  {
   "cell_type": "code",
   "execution_count": 262,
   "metadata": {},
   "outputs": [
    {
     "data": {
      "text/html": [
       "<div>\n",
       "<style scoped>\n",
       "    .dataframe tbody tr th:only-of-type {\n",
       "        vertical-align: middle;\n",
       "    }\n",
       "\n",
       "    .dataframe tbody tr th {\n",
       "        vertical-align: top;\n",
       "    }\n",
       "\n",
       "    .dataframe thead th {\n",
       "        text-align: right;\n",
       "    }\n",
       "</style>\n",
       "<table border=\"1\" class=\"dataframe\">\n",
       "  <thead>\n",
       "    <tr style=\"text-align: right;\">\n",
       "      <th></th>\n",
       "      <th>Term</th>\n",
       "      <th>EstimatedEffectiveYield</th>\n",
       "      <th>BorrowerAPR</th>\n",
       "      <th>BorrowerRate</th>\n",
       "      <th>ProsperRating (numeric)</th>\n",
       "      <th>ProsperScore</th>\n",
       "      <th>ListingCategory (numeric)</th>\n",
       "      <th>EmploymentStatusDuration</th>\n",
       "      <th>StatedMonthlyIncome</th>\n",
       "      <th>MonthlyLoanPayment</th>\n",
       "      <th>Recommendations</th>\n",
       "      <th>DebtToIncomeRatio</th>\n",
       "      <th>LoanOriginalAmount</th>\n",
       "      <th>PercentFunded</th>\n",
       "      <th>Investors</th>\n",
       "    </tr>\n",
       "  </thead>\n",
       "  <tbody>\n",
       "    <tr>\n",
       "      <th>count</th>\n",
       "      <td>113937.000000</td>\n",
       "      <td>84853.000000</td>\n",
       "      <td>113912.000000</td>\n",
       "      <td>113937.000000</td>\n",
       "      <td>84853.000000</td>\n",
       "      <td>84853.000000</td>\n",
       "      <td>113937.000000</td>\n",
       "      <td>106312.000000</td>\n",
       "      <td>1.139370e+05</td>\n",
       "      <td>113937.000000</td>\n",
       "      <td>113937.000000</td>\n",
       "      <td>105383.000000</td>\n",
       "      <td>113937.00000</td>\n",
       "      <td>113937.000000</td>\n",
       "      <td>113937.000000</td>\n",
       "    </tr>\n",
       "    <tr>\n",
       "      <th>mean</th>\n",
       "      <td>40.830248</td>\n",
       "      <td>0.168661</td>\n",
       "      <td>0.218828</td>\n",
       "      <td>0.192764</td>\n",
       "      <td>4.072243</td>\n",
       "      <td>5.950067</td>\n",
       "      <td>2.774209</td>\n",
       "      <td>96.071582</td>\n",
       "      <td>5.608026e+03</td>\n",
       "      <td>272.475783</td>\n",
       "      <td>0.048027</td>\n",
       "      <td>0.275947</td>\n",
       "      <td>8337.01385</td>\n",
       "      <td>0.998584</td>\n",
       "      <td>80.475228</td>\n",
       "    </tr>\n",
       "    <tr>\n",
       "      <th>std</th>\n",
       "      <td>10.436212</td>\n",
       "      <td>0.068467</td>\n",
       "      <td>0.080364</td>\n",
       "      <td>0.074818</td>\n",
       "      <td>1.673227</td>\n",
       "      <td>2.376501</td>\n",
       "      <td>3.996797</td>\n",
       "      <td>94.480605</td>\n",
       "      <td>7.478497e+03</td>\n",
       "      <td>192.697812</td>\n",
       "      <td>0.332353</td>\n",
       "      <td>0.551759</td>\n",
       "      <td>6245.80058</td>\n",
       "      <td>0.017919</td>\n",
       "      <td>103.239020</td>\n",
       "    </tr>\n",
       "    <tr>\n",
       "      <th>min</th>\n",
       "      <td>12.000000</td>\n",
       "      <td>-0.182700</td>\n",
       "      <td>0.006530</td>\n",
       "      <td>0.000000</td>\n",
       "      <td>1.000000</td>\n",
       "      <td>1.000000</td>\n",
       "      <td>0.000000</td>\n",
       "      <td>0.000000</td>\n",
       "      <td>0.000000e+00</td>\n",
       "      <td>0.000000</td>\n",
       "      <td>0.000000</td>\n",
       "      <td>0.000000</td>\n",
       "      <td>1000.00000</td>\n",
       "      <td>0.700000</td>\n",
       "      <td>1.000000</td>\n",
       "    </tr>\n",
       "    <tr>\n",
       "      <th>25%</th>\n",
       "      <td>36.000000</td>\n",
       "      <td>0.115670</td>\n",
       "      <td>0.156290</td>\n",
       "      <td>0.134000</td>\n",
       "      <td>3.000000</td>\n",
       "      <td>4.000000</td>\n",
       "      <td>1.000000</td>\n",
       "      <td>26.000000</td>\n",
       "      <td>3.200333e+03</td>\n",
       "      <td>131.620000</td>\n",
       "      <td>0.000000</td>\n",
       "      <td>0.140000</td>\n",
       "      <td>4000.00000</td>\n",
       "      <td>1.000000</td>\n",
       "      <td>2.000000</td>\n",
       "    </tr>\n",
       "    <tr>\n",
       "      <th>50%</th>\n",
       "      <td>36.000000</td>\n",
       "      <td>0.161500</td>\n",
       "      <td>0.209760</td>\n",
       "      <td>0.184000</td>\n",
       "      <td>4.000000</td>\n",
       "      <td>6.000000</td>\n",
       "      <td>1.000000</td>\n",
       "      <td>67.000000</td>\n",
       "      <td>4.666667e+03</td>\n",
       "      <td>217.740000</td>\n",
       "      <td>0.000000</td>\n",
       "      <td>0.220000</td>\n",
       "      <td>6500.00000</td>\n",
       "      <td>1.000000</td>\n",
       "      <td>44.000000</td>\n",
       "    </tr>\n",
       "    <tr>\n",
       "      <th>75%</th>\n",
       "      <td>36.000000</td>\n",
       "      <td>0.224300</td>\n",
       "      <td>0.283810</td>\n",
       "      <td>0.250000</td>\n",
       "      <td>5.000000</td>\n",
       "      <td>8.000000</td>\n",
       "      <td>3.000000</td>\n",
       "      <td>137.000000</td>\n",
       "      <td>6.825000e+03</td>\n",
       "      <td>371.580000</td>\n",
       "      <td>0.000000</td>\n",
       "      <td>0.320000</td>\n",
       "      <td>12000.00000</td>\n",
       "      <td>1.000000</td>\n",
       "      <td>115.000000</td>\n",
       "    </tr>\n",
       "    <tr>\n",
       "      <th>max</th>\n",
       "      <td>60.000000</td>\n",
       "      <td>0.319900</td>\n",
       "      <td>0.512290</td>\n",
       "      <td>0.497500</td>\n",
       "      <td>7.000000</td>\n",
       "      <td>11.000000</td>\n",
       "      <td>20.000000</td>\n",
       "      <td>755.000000</td>\n",
       "      <td>1.750003e+06</td>\n",
       "      <td>2251.510000</td>\n",
       "      <td>39.000000</td>\n",
       "      <td>10.010000</td>\n",
       "      <td>35000.00000</td>\n",
       "      <td>1.012500</td>\n",
       "      <td>1189.000000</td>\n",
       "    </tr>\n",
       "  </tbody>\n",
       "</table>\n",
       "</div>"
      ],
      "text/plain": [
       "                Term  EstimatedEffectiveYield    BorrowerAPR   BorrowerRate  \\\n",
       "count  113937.000000             84853.000000  113912.000000  113937.000000   \n",
       "mean       40.830248                 0.168661       0.218828       0.192764   \n",
       "std        10.436212                 0.068467       0.080364       0.074818   \n",
       "min        12.000000                -0.182700       0.006530       0.000000   \n",
       "25%        36.000000                 0.115670       0.156290       0.134000   \n",
       "50%        36.000000                 0.161500       0.209760       0.184000   \n",
       "75%        36.000000                 0.224300       0.283810       0.250000   \n",
       "max        60.000000                 0.319900       0.512290       0.497500   \n",
       "\n",
       "       ProsperRating (numeric)  ProsperScore  ListingCategory (numeric)  \\\n",
       "count             84853.000000  84853.000000              113937.000000   \n",
       "mean                  4.072243      5.950067                   2.774209   \n",
       "std                   1.673227      2.376501                   3.996797   \n",
       "min                   1.000000      1.000000                   0.000000   \n",
       "25%                   3.000000      4.000000                   1.000000   \n",
       "50%                   4.000000      6.000000                   1.000000   \n",
       "75%                   5.000000      8.000000                   3.000000   \n",
       "max                   7.000000     11.000000                  20.000000   \n",
       "\n",
       "       EmploymentStatusDuration  StatedMonthlyIncome  MonthlyLoanPayment  \\\n",
       "count             106312.000000         1.139370e+05       113937.000000   \n",
       "mean                  96.071582         5.608026e+03          272.475783   \n",
       "std                   94.480605         7.478497e+03          192.697812   \n",
       "min                    0.000000         0.000000e+00            0.000000   \n",
       "25%                   26.000000         3.200333e+03          131.620000   \n",
       "50%                   67.000000         4.666667e+03          217.740000   \n",
       "75%                  137.000000         6.825000e+03          371.580000   \n",
       "max                  755.000000         1.750003e+06         2251.510000   \n",
       "\n",
       "       Recommendations  DebtToIncomeRatio  LoanOriginalAmount  PercentFunded  \\\n",
       "count    113937.000000      105383.000000        113937.00000  113937.000000   \n",
       "mean          0.048027           0.275947          8337.01385       0.998584   \n",
       "std           0.332353           0.551759          6245.80058       0.017919   \n",
       "min           0.000000           0.000000          1000.00000       0.700000   \n",
       "25%           0.000000           0.140000          4000.00000       1.000000   \n",
       "50%           0.000000           0.220000          6500.00000       1.000000   \n",
       "75%           0.000000           0.320000         12000.00000       1.000000   \n",
       "max          39.000000          10.010000         35000.00000       1.012500   \n",
       "\n",
       "           Investors  \n",
       "count  113937.000000  \n",
       "mean       80.475228  \n",
       "std       103.239020  \n",
       "min         1.000000  \n",
       "25%         2.000000  \n",
       "50%        44.000000  \n",
       "75%       115.000000  \n",
       "max      1189.000000  "
      ]
     },
     "execution_count": 262,
     "metadata": {},
     "output_type": "execute_result"
    }
   ],
   "source": [
    "df_loan.describe()"
   ]
  },
  {
   "cell_type": "code",
   "execution_count": 263,
   "metadata": {},
   "outputs": [
    {
     "data": {
      "text/plain": [
       "Term                             0\n",
       "LoanStatus                       0\n",
       "EstimatedEffectiveYield      29084\n",
       "BorrowerAPR                     25\n",
       "BorrowerRate                     0\n",
       "ProsperRating (numeric)      29084\n",
       "ProsperRating (Alpha)        29084\n",
       "ProsperScore                 29084\n",
       "ListingCategory (numeric)        0\n",
       "EmploymentStatus              2255\n",
       "Occupation                    3588\n",
       "EmploymentStatusDuration      7625\n",
       "IsBorrowerHomeowner              0\n",
       "IncomeVerifiable                 0\n",
       "StatedMonthlyIncome              0\n",
       "MonthlyLoanPayment               0\n",
       "Recommendations                  0\n",
       "DebtToIncomeRatio             8554\n",
       "LoanOriginalAmount               0\n",
       "PercentFunded                    0\n",
       "IncomeRange                      0\n",
       "Investors                        0\n",
       "BorrowerState                 5515\n",
       "dtype: int64"
      ]
     },
     "execution_count": 263,
     "metadata": {},
     "output_type": "execute_result"
    }
   ],
   "source": [
    "df_loan.isnull().sum()"
   ]
  },
  {
   "cell_type": "markdown",
   "metadata": {},
   "source": [
    "."
   ]
  },
  {
   "cell_type": "markdown",
   "metadata": {},
   "source": [
    "### Data Wrangling"
   ]
  },
  {
   "cell_type": "markdown",
   "metadata": {},
   "source": [
    "Define \n",
    ">There are  null values in our datasets"
   ]
  },
  {
   "cell_type": "markdown",
   "metadata": {},
   "source": [
    "> We cannot work with large amounts of null values in our dataset, wo we would drop them "
   ]
  },
  {
   "cell_type": "markdown",
   "metadata": {},
   "source": [
    "Code"
   ]
  },
  {
   "cell_type": "code",
   "execution_count": 264,
   "metadata": {},
   "outputs": [],
   "source": [
    "df_loan = df_loan.dropna()"
   ]
  },
  {
   "cell_type": "markdown",
   "metadata": {},
   "source": [
    "Test"
   ]
  },
  {
   "cell_type": "markdown",
   "metadata": {},
   "source": [
    "> Test there are no more null values\n",
    ">> If there are no more null values, the code below should output zero"
   ]
  },
  {
   "cell_type": "code",
   "execution_count": 265,
   "metadata": {},
   "outputs": [
    {
     "data": {
      "text/plain": [
       "0"
      ]
     },
     "execution_count": 265,
     "metadata": {},
     "output_type": "execute_result"
    }
   ],
   "source": [
    "df_loan.isnull().all().sum()"
   ]
  },
  {
   "cell_type": "markdown",
   "metadata": {},
   "source": [
    "> Now let's check if our dataset contain deuplicate values\n",
    ">> If there are no duplicates, the code below should output zero"
   ]
  },
  {
   "cell_type": "code",
   "execution_count": 266,
   "metadata": {},
   "outputs": [
    {
     "data": {
      "text/plain": [
       "0"
      ]
     },
     "execution_count": 266,
     "metadata": {},
     "output_type": "execute_result"
    }
   ],
   "source": [
    "df_loan.duplicated().sum()"
   ]
  },
  {
   "cell_type": "markdown",
   "metadata": {},
   "source": [
    "Define\n",
    "> There is inappropriate naming of some of the features, we would have to rename them "
   ]
  },
  {
   "cell_type": "markdown",
   "metadata": {},
   "source": [
    "Code"
   ]
  },
  {
   "cell_type": "code",
   "execution_count": 267,
   "metadata": {},
   "outputs": [],
   "source": [
    "columns_to_rename ={'ProsperRating (Alpha)': 'prosperAlphaRating', \n",
    "                        'ProsperRating (numeric)': 'prosperNumericRating',\n",
    "                        'ListingCategory (numeric)' : 'listingCategoryNumeric'\n",
    "                       }"
   ]
  },
  {
   "cell_type": "code",
   "execution_count": 268,
   "metadata": {},
   "outputs": [],
   "source": [
    "df_loan = df_loan.rename(columns=columns_to_rename)"
   ]
  },
  {
   "cell_type": "markdown",
   "metadata": {},
   "source": [
    "Test"
   ]
  },
  {
   "cell_type": "code",
   "execution_count": 269,
   "metadata": {},
   "outputs": [
    {
     "name": "stdout",
     "output_type": "stream",
     "text": [
      "ProsperRating (Alpha)does not exist\n",
      "ProsperRating (numeric)does not exist\n",
      "ListingCategory (numeric)does not exist\n"
     ]
    }
   ],
   "source": [
    "old_cols = ['ProsperRating (Alpha)','ProsperRating (numeric)','ListingCategory (numeric)']\n",
    "for i in old_cols:\n",
    "    assert i not in df_loan.columns.to_list()\n",
    "    print(i + 'does not exist')"
   ]
  },
  {
   "cell_type": "markdown",
   "metadata": {},
   "source": [
    "> We also need to make all our column names lowercase and separated by _"
   ]
  },
  {
   "cell_type": "code",
   "execution_count": 270,
   "metadata": {},
   "outputs": [],
   "source": [
    "# lower case all variable names\n",
    "df_loan.columns = df_loan.columns.str.replace('[\\W]', '')\\\n",
    "          .str.replace('(?<!^)([A-Z])', r'_\\1')\\\n",
    "          .str.lower()"
   ]
  },
  {
   "cell_type": "markdown",
   "metadata": {},
   "source": [
    "> Confirm all our columns are well formatted"
   ]
  },
  {
   "cell_type": "code",
   "execution_count": 271,
   "metadata": {},
   "outputs": [
    {
     "data": {
      "text/plain": [
       "Index(['term', 'loan_status', 'estimated_effective_yield', 'borrower_a_p_r',\n",
       "       'borrower_rate', 'prosper_numeric_rating', 'prosper_alpha_rating',\n",
       "       'prosper_score', 'listing_category_numeric', 'employment_status',\n",
       "       'occupation', 'employment_status_duration', 'is_borrower_homeowner',\n",
       "       'income_verifiable', 'stated_monthly_income', 'monthly_loan_payment',\n",
       "       'recommendations', 'debt_to_income_ratio', 'loan_original_amount',\n",
       "       'percent_funded', 'income_range', 'investors', 'borrower_state'],\n",
       "      dtype='object')"
      ]
     },
     "execution_count": 271,
     "metadata": {},
     "output_type": "execute_result"
    }
   ],
   "source": [
    "df_loan.columns"
   ]
  },
  {
   "cell_type": "markdown",
   "metadata": {},
   "source": [
    "> Let's check our data types\n",
    ">> We need to be sure our features have the correct data types"
   ]
  },
  {
   "cell_type": "code",
   "execution_count": 272,
   "metadata": {},
   "outputs": [
    {
     "data": {
      "text/plain": [
       "term                            int64\n",
       "loan_status                    object\n",
       "estimated_effective_yield     float64\n",
       "borrower_a_p_r                float64\n",
       "borrower_rate                 float64\n",
       "prosper_numeric_rating        float64\n",
       "prosper_alpha_rating           object\n",
       "prosper_score                 float64\n",
       "listing_category_numeric        int64\n",
       "employment_status              object\n",
       "occupation                     object\n",
       "employment_status_duration    float64\n",
       "is_borrower_homeowner            bool\n",
       "income_verifiable                bool\n",
       "stated_monthly_income         float64\n",
       "monthly_loan_payment          float64\n",
       "recommendations                 int64\n",
       "debt_to_income_ratio          float64\n",
       "loan_original_amount            int64\n",
       "percent_funded                float64\n",
       "income_range                   object\n",
       "investors                       int64\n",
       "borrower_state                 object\n",
       "dtype: object"
      ]
     },
     "execution_count": 272,
     "metadata": {},
     "output_type": "execute_result"
    }
   ],
   "source": [
    "df_loan.dtypes"
   ]
  },
  {
   "cell_type": "markdown",
   "metadata": {},
   "source": [
    "> From the document that contains our varaible description, term should be treated a  asa categorialc variable\n",
    "\n",
    "> We have to convert term to catgoricla datatype so we can construct visuals like bar chart/count plot on it"
   ]
  },
  {
   "cell_type": "code",
   "execution_count": 273,
   "metadata": {},
   "outputs": [],
   "source": [
    "#convert term to  categorical variable\n",
    "df_loan.term = df_loan.term.astype('category')"
   ]
  },
  {
   "cell_type": "code",
   "execution_count": 274,
   "metadata": {},
   "outputs": [
    {
     "data": {
      "text/plain": [
       "term                          category\n",
       "loan_status                     object\n",
       "estimated_effective_yield      float64\n",
       "borrower_a_p_r                 float64\n",
       "borrower_rate                  float64\n",
       "prosper_numeric_rating         float64\n",
       "prosper_alpha_rating            object\n",
       "prosper_score                  float64\n",
       "listing_category_numeric         int64\n",
       "employment_status               object\n",
       "occupation                      object\n",
       "employment_status_duration     float64\n",
       "is_borrower_homeowner             bool\n",
       "income_verifiable                 bool\n",
       "stated_monthly_income          float64\n",
       "monthly_loan_payment           float64\n",
       "recommendations                  int64\n",
       "debt_to_income_ratio           float64\n",
       "loan_original_amount             int64\n",
       "percent_funded                 float64\n",
       "income_range                    object\n",
       "investors                        int64\n",
       "borrower_state                  object\n",
       "dtype: object"
      ]
     },
     "execution_count": 274,
     "metadata": {},
     "output_type": "execute_result"
    }
   ],
   "source": [
    "df_loan.dtypes"
   ]
  },
  {
   "cell_type": "markdown",
   "metadata": {},
   "source": [
    "#### Objective Reminder: "
   ]
  },
  {
   "cell_type": "markdown",
   "metadata": {},
   "source": [
    ">Our primary focus in this analytic endeavour would be to understand what features are in our gathered & wrangled data are more reponsible for the succes of a loan application while gaining and visalizing othe valubale insights. "
   ]
  },
  {
   "cell_type": "markdown",
   "metadata": {},
   "source": [
    "> Based on the intmacy gained from the data, and further research on loan outcomes and loan predictors, primacy of analysis would be given to features which cover factors like \n",
    "\n",
    ">> -  borrowers income/employemnt status\n",
    "\n",
    ">> - borrowers debt exposure\n",
    "\n",
    ">> - borrowers asset (home owner in this instance)\n",
    "\n",
    ">> - credit rating from the loan company\n",
    "\n",
    ">> <a href='https://loans.usnews.com/articles/beyond-credit-scores-factors-that-affect-a-loan-application'> Reference</a>"
   ]
  },
  {
   "cell_type": "markdown",
   "metadata": {},
   "source": [
    "## Exploratory Data Analysis"
   ]
  },
  {
   "cell_type": "markdown",
   "metadata": {},
   "source": [
    "<a id = 'uni'><a/>\n",
    "## Univariate Exploration"
   ]
  },
  {
   "cell_type": "markdown",
   "metadata": {},
   "source": [
    "<!-- > In this section, investigate distributions of individual variables. If\n",
    "you see unusual points or outliers, take a deeper look to clean things up\n",
    "and prepare yourself to look at relationships between variables. -->"
   ]
  },
  {
   "cell_type": "markdown",
   "metadata": {},
   "source": [
    "> Since Visualization according to data types, is braoadly categorical (qualitative) or numeric (quantitaitve) especially for univariate visualization, we shall be dividing our datasets into two namely:\n",
    "\n",
    "  >> - categorical\n",
    "  >> - numerical"
   ]
  },
  {
   "cell_type": "markdown",
   "metadata": {},
   "source": [
    "<!-- > Make sure that, after every plot or related series of plots, that you\n",
    "include a Markdown cell with comments about what you observed, and what\n",
    "you plan on investigating next. -->"
   ]
  },
  {
   "cell_type": "markdown",
   "metadata": {},
   "source": [
    "categorical dataset"
   ]
  },
  {
   "cell_type": "code",
   "execution_count": 275,
   "metadata": {},
   "outputs": [
    {
     "data": {
      "text/html": [
       "<div>\n",
       "<style scoped>\n",
       "    .dataframe tbody tr th:only-of-type {\n",
       "        vertical-align: middle;\n",
       "    }\n",
       "\n",
       "    .dataframe tbody tr th {\n",
       "        vertical-align: top;\n",
       "    }\n",
       "\n",
       "    .dataframe thead th {\n",
       "        text-align: right;\n",
       "    }\n",
       "</style>\n",
       "<table border=\"1\" class=\"dataframe\">\n",
       "  <thead>\n",
       "    <tr style=\"text-align: right;\">\n",
       "      <th></th>\n",
       "      <th>term</th>\n",
       "      <th>loan_status</th>\n",
       "      <th>prosper_alpha_rating</th>\n",
       "      <th>employment_status</th>\n",
       "      <th>occupation</th>\n",
       "      <th>income_range</th>\n",
       "      <th>borrower_state</th>\n",
       "    </tr>\n",
       "  </thead>\n",
       "  <tbody>\n",
       "    <tr>\n",
       "      <th>1</th>\n",
       "      <td>36</td>\n",
       "      <td>Current</td>\n",
       "      <td>A</td>\n",
       "      <td>Employed</td>\n",
       "      <td>Professional</td>\n",
       "      <td>$50,000-74,999</td>\n",
       "      <td>CO</td>\n",
       "    </tr>\n",
       "    <tr>\n",
       "      <th>3</th>\n",
       "      <td>36</td>\n",
       "      <td>Current</td>\n",
       "      <td>A</td>\n",
       "      <td>Employed</td>\n",
       "      <td>Skilled Labor</td>\n",
       "      <td>$25,000-49,999</td>\n",
       "      <td>GA</td>\n",
       "    </tr>\n",
       "    <tr>\n",
       "      <th>4</th>\n",
       "      <td>36</td>\n",
       "      <td>Current</td>\n",
       "      <td>D</td>\n",
       "      <td>Employed</td>\n",
       "      <td>Executive</td>\n",
       "      <td>$100,000+</td>\n",
       "      <td>MN</td>\n",
       "    </tr>\n",
       "    <tr>\n",
       "      <th>5</th>\n",
       "      <td>60</td>\n",
       "      <td>Current</td>\n",
       "      <td>B</td>\n",
       "      <td>Employed</td>\n",
       "      <td>Professional</td>\n",
       "      <td>$100,000+</td>\n",
       "      <td>NM</td>\n",
       "    </tr>\n",
       "    <tr>\n",
       "      <th>6</th>\n",
       "      <td>36</td>\n",
       "      <td>Current</td>\n",
       "      <td>E</td>\n",
       "      <td>Employed</td>\n",
       "      <td>Sales - Retail</td>\n",
       "      <td>$25,000-49,999</td>\n",
       "      <td>KS</td>\n",
       "    </tr>\n",
       "    <tr>\n",
       "      <th>7</th>\n",
       "      <td>36</td>\n",
       "      <td>Current</td>\n",
       "      <td>C</td>\n",
       "      <td>Employed</td>\n",
       "      <td>Laborer</td>\n",
       "      <td>$25,000-49,999</td>\n",
       "      <td>CA</td>\n",
       "    </tr>\n",
       "    <tr>\n",
       "      <th>8</th>\n",
       "      <td>36</td>\n",
       "      <td>Current</td>\n",
       "      <td>AA</td>\n",
       "      <td>Employed</td>\n",
       "      <td>Food Service</td>\n",
       "      <td>$25,000-49,999</td>\n",
       "      <td>IL</td>\n",
       "    </tr>\n",
       "    <tr>\n",
       "      <th>9</th>\n",
       "      <td>36</td>\n",
       "      <td>Current</td>\n",
       "      <td>AA</td>\n",
       "      <td>Employed</td>\n",
       "      <td>Food Service</td>\n",
       "      <td>$25,000-49,999</td>\n",
       "      <td>IL</td>\n",
       "    </tr>\n",
       "    <tr>\n",
       "      <th>10</th>\n",
       "      <td>60</td>\n",
       "      <td>Current</td>\n",
       "      <td>C</td>\n",
       "      <td>Employed</td>\n",
       "      <td>Fireman</td>\n",
       "      <td>$75,000-99,999</td>\n",
       "      <td>MD</td>\n",
       "    </tr>\n",
       "    <tr>\n",
       "      <th>12</th>\n",
       "      <td>36</td>\n",
       "      <td>Past Due (1-15 days)</td>\n",
       "      <td>B</td>\n",
       "      <td>Employed</td>\n",
       "      <td>Sales - Retail</td>\n",
       "      <td>$25,000-49,999</td>\n",
       "      <td>AL</td>\n",
       "    </tr>\n",
       "  </tbody>\n",
       "</table>\n",
       "</div>"
      ],
      "text/plain": [
       "   term           loan_status prosper_alpha_rating employment_status  \\\n",
       "1    36               Current                    A          Employed   \n",
       "3    36               Current                    A          Employed   \n",
       "4    36               Current                    D          Employed   \n",
       "5    60               Current                    B          Employed   \n",
       "6    36               Current                    E          Employed   \n",
       "7    36               Current                    C          Employed   \n",
       "8    36               Current                   AA          Employed   \n",
       "9    36               Current                   AA          Employed   \n",
       "10   60               Current                    C          Employed   \n",
       "12   36  Past Due (1-15 days)                    B          Employed   \n",
       "\n",
       "        occupation    income_range borrower_state  \n",
       "1     Professional  $50,000-74,999             CO  \n",
       "3    Skilled Labor  $25,000-49,999             GA  \n",
       "4        Executive       $100,000+             MN  \n",
       "5     Professional       $100,000+             NM  \n",
       "6   Sales - Retail  $25,000-49,999             KS  \n",
       "7          Laborer  $25,000-49,999             CA  \n",
       "8     Food Service  $25,000-49,999             IL  \n",
       "9     Food Service  $25,000-49,999             IL  \n",
       "10         Fireman  $75,000-99,999             MD  \n",
       "12  Sales - Retail  $25,000-49,999             AL  "
      ]
     },
     "execution_count": 275,
     "metadata": {},
     "output_type": "execute_result"
    }
   ],
   "source": [
    "categ_loan = df_loan.loc[:, (df_loan.dtypes =='object') | (df_loan.dtypes =='category')]\n",
    "categ_loan.head(10)"
   ]
  },
  {
   "cell_type": "markdown",
   "metadata": {},
   "source": [
    "numerical dataset"
   ]
  },
  {
   "cell_type": "code",
   "execution_count": 276,
   "metadata": {},
   "outputs": [
    {
     "data": {
      "text/html": [
       "<div>\n",
       "<style scoped>\n",
       "    .dataframe tbody tr th:only-of-type {\n",
       "        vertical-align: middle;\n",
       "    }\n",
       "\n",
       "    .dataframe tbody tr th {\n",
       "        vertical-align: top;\n",
       "    }\n",
       "\n",
       "    .dataframe thead th {\n",
       "        text-align: right;\n",
       "    }\n",
       "</style>\n",
       "<table border=\"1\" class=\"dataframe\">\n",
       "  <thead>\n",
       "    <tr style=\"text-align: right;\">\n",
       "      <th></th>\n",
       "      <th>estimated_effective_yield</th>\n",
       "      <th>borrower_a_p_r</th>\n",
       "      <th>borrower_rate</th>\n",
       "      <th>prosper_numeric_rating</th>\n",
       "      <th>prosper_score</th>\n",
       "      <th>listing_category_numeric</th>\n",
       "      <th>employment_status_duration</th>\n",
       "      <th>stated_monthly_income</th>\n",
       "      <th>monthly_loan_payment</th>\n",
       "      <th>recommendations</th>\n",
       "      <th>debt_to_income_ratio</th>\n",
       "      <th>loan_original_amount</th>\n",
       "      <th>percent_funded</th>\n",
       "      <th>investors</th>\n",
       "    </tr>\n",
       "  </thead>\n",
       "  <tbody>\n",
       "    <tr>\n",
       "      <th>1</th>\n",
       "      <td>0.07960</td>\n",
       "      <td>0.12016</td>\n",
       "      <td>0.0920</td>\n",
       "      <td>6.0</td>\n",
       "      <td>7.0</td>\n",
       "      <td>2</td>\n",
       "      <td>44.0</td>\n",
       "      <td>6125.000000</td>\n",
       "      <td>318.93</td>\n",
       "      <td>0</td>\n",
       "      <td>0.18</td>\n",
       "      <td>10000</td>\n",
       "      <td>1.0</td>\n",
       "      <td>1</td>\n",
       "    </tr>\n",
       "    <tr>\n",
       "      <th>3</th>\n",
       "      <td>0.08490</td>\n",
       "      <td>0.12528</td>\n",
       "      <td>0.0974</td>\n",
       "      <td>6.0</td>\n",
       "      <td>9.0</td>\n",
       "      <td>16</td>\n",
       "      <td>113.0</td>\n",
       "      <td>2875.000000</td>\n",
       "      <td>321.45</td>\n",
       "      <td>0</td>\n",
       "      <td>0.15</td>\n",
       "      <td>10000</td>\n",
       "      <td>1.0</td>\n",
       "      <td>158</td>\n",
       "    </tr>\n",
       "    <tr>\n",
       "      <th>4</th>\n",
       "      <td>0.18316</td>\n",
       "      <td>0.24614</td>\n",
       "      <td>0.2085</td>\n",
       "      <td>3.0</td>\n",
       "      <td>4.0</td>\n",
       "      <td>2</td>\n",
       "      <td>44.0</td>\n",
       "      <td>9583.333333</td>\n",
       "      <td>563.97</td>\n",
       "      <td>0</td>\n",
       "      <td>0.26</td>\n",
       "      <td>15000</td>\n",
       "      <td>1.0</td>\n",
       "      <td>20</td>\n",
       "    </tr>\n",
       "    <tr>\n",
       "      <th>5</th>\n",
       "      <td>0.11567</td>\n",
       "      <td>0.15425</td>\n",
       "      <td>0.1314</td>\n",
       "      <td>5.0</td>\n",
       "      <td>10.0</td>\n",
       "      <td>1</td>\n",
       "      <td>82.0</td>\n",
       "      <td>8333.333333</td>\n",
       "      <td>342.37</td>\n",
       "      <td>0</td>\n",
       "      <td>0.36</td>\n",
       "      <td>15000</td>\n",
       "      <td>1.0</td>\n",
       "      <td>1</td>\n",
       "    </tr>\n",
       "    <tr>\n",
       "      <th>6</th>\n",
       "      <td>0.23820</td>\n",
       "      <td>0.31032</td>\n",
       "      <td>0.2712</td>\n",
       "      <td>2.0</td>\n",
       "      <td>2.0</td>\n",
       "      <td>1</td>\n",
       "      <td>172.0</td>\n",
       "      <td>2083.333333</td>\n",
       "      <td>122.67</td>\n",
       "      <td>0</td>\n",
       "      <td>0.27</td>\n",
       "      <td>3000</td>\n",
       "      <td>1.0</td>\n",
       "      <td>1</td>\n",
       "    </tr>\n",
       "    <tr>\n",
       "      <th>...</th>\n",
       "      <td>...</td>\n",
       "      <td>...</td>\n",
       "      <td>...</td>\n",
       "      <td>...</td>\n",
       "      <td>...</td>\n",
       "      <td>...</td>\n",
       "      <td>...</td>\n",
       "      <td>...</td>\n",
       "      <td>...</td>\n",
       "      <td>...</td>\n",
       "      <td>...</td>\n",
       "      <td>...</td>\n",
       "      <td>...</td>\n",
       "      <td>...</td>\n",
       "    </tr>\n",
       "    <tr>\n",
       "      <th>113932</th>\n",
       "      <td>0.16490</td>\n",
       "      <td>0.22354</td>\n",
       "      <td>0.1864</td>\n",
       "      <td>4.0</td>\n",
       "      <td>5.0</td>\n",
       "      <td>1</td>\n",
       "      <td>246.0</td>\n",
       "      <td>4333.333333</td>\n",
       "      <td>364.74</td>\n",
       "      <td>0</td>\n",
       "      <td>0.13</td>\n",
       "      <td>10000</td>\n",
       "      <td>1.0</td>\n",
       "      <td>1</td>\n",
       "    </tr>\n",
       "    <tr>\n",
       "      <th>113933</th>\n",
       "      <td>0.10070</td>\n",
       "      <td>0.13220</td>\n",
       "      <td>0.1110</td>\n",
       "      <td>6.0</td>\n",
       "      <td>8.0</td>\n",
       "      <td>7</td>\n",
       "      <td>21.0</td>\n",
       "      <td>8041.666667</td>\n",
       "      <td>65.57</td>\n",
       "      <td>0</td>\n",
       "      <td>0.11</td>\n",
       "      <td>2000</td>\n",
       "      <td>1.0</td>\n",
       "      <td>22</td>\n",
       "    </tr>\n",
       "    <tr>\n",
       "      <th>113934</th>\n",
       "      <td>0.18828</td>\n",
       "      <td>0.23984</td>\n",
       "      <td>0.2150</td>\n",
       "      <td>3.0</td>\n",
       "      <td>3.0</td>\n",
       "      <td>1</td>\n",
       "      <td>84.0</td>\n",
       "      <td>2875.000000</td>\n",
       "      <td>273.35</td>\n",
       "      <td>0</td>\n",
       "      <td>0.51</td>\n",
       "      <td>10000</td>\n",
       "      <td>1.0</td>\n",
       "      <td>119</td>\n",
       "    </tr>\n",
       "    <tr>\n",
       "      <th>113935</th>\n",
       "      <td>0.24450</td>\n",
       "      <td>0.28408</td>\n",
       "      <td>0.2605</td>\n",
       "      <td>4.0</td>\n",
       "      <td>5.0</td>\n",
       "      <td>2</td>\n",
       "      <td>94.0</td>\n",
       "      <td>3875.000000</td>\n",
       "      <td>449.55</td>\n",
       "      <td>0</td>\n",
       "      <td>0.48</td>\n",
       "      <td>15000</td>\n",
       "      <td>1.0</td>\n",
       "      <td>274</td>\n",
       "    </tr>\n",
       "    <tr>\n",
       "      <th>113936</th>\n",
       "      <td>0.09071</td>\n",
       "      <td>0.13189</td>\n",
       "      <td>0.1039</td>\n",
       "      <td>6.0</td>\n",
       "      <td>7.0</td>\n",
       "      <td>1</td>\n",
       "      <td>244.0</td>\n",
       "      <td>4583.333333</td>\n",
       "      <td>64.90</td>\n",
       "      <td>0</td>\n",
       "      <td>0.23</td>\n",
       "      <td>2000</td>\n",
       "      <td>1.0</td>\n",
       "      <td>1</td>\n",
       "    </tr>\n",
       "  </tbody>\n",
       "</table>\n",
       "<p>76216 rows × 14 columns</p>\n",
       "</div>"
      ],
      "text/plain": [
       "        estimated_effective_yield  borrower_a_p_r  borrower_rate  \\\n",
       "1                         0.07960         0.12016         0.0920   \n",
       "3                         0.08490         0.12528         0.0974   \n",
       "4                         0.18316         0.24614         0.2085   \n",
       "5                         0.11567         0.15425         0.1314   \n",
       "6                         0.23820         0.31032         0.2712   \n",
       "...                           ...             ...            ...   \n",
       "113932                    0.16490         0.22354         0.1864   \n",
       "113933                    0.10070         0.13220         0.1110   \n",
       "113934                    0.18828         0.23984         0.2150   \n",
       "113935                    0.24450         0.28408         0.2605   \n",
       "113936                    0.09071         0.13189         0.1039   \n",
       "\n",
       "        prosper_numeric_rating  prosper_score  listing_category_numeric  \\\n",
       "1                          6.0            7.0                         2   \n",
       "3                          6.0            9.0                        16   \n",
       "4                          3.0            4.0                         2   \n",
       "5                          5.0           10.0                         1   \n",
       "6                          2.0            2.0                         1   \n",
       "...                        ...            ...                       ...   \n",
       "113932                     4.0            5.0                         1   \n",
       "113933                     6.0            8.0                         7   \n",
       "113934                     3.0            3.0                         1   \n",
       "113935                     4.0            5.0                         2   \n",
       "113936                     6.0            7.0                         1   \n",
       "\n",
       "        employment_status_duration  stated_monthly_income  \\\n",
       "1                             44.0            6125.000000   \n",
       "3                            113.0            2875.000000   \n",
       "4                             44.0            9583.333333   \n",
       "5                             82.0            8333.333333   \n",
       "6                            172.0            2083.333333   \n",
       "...                            ...                    ...   \n",
       "113932                       246.0            4333.333333   \n",
       "113933                        21.0            8041.666667   \n",
       "113934                        84.0            2875.000000   \n",
       "113935                        94.0            3875.000000   \n",
       "113936                       244.0            4583.333333   \n",
       "\n",
       "        monthly_loan_payment  recommendations  debt_to_income_ratio  \\\n",
       "1                     318.93                0                  0.18   \n",
       "3                     321.45                0                  0.15   \n",
       "4                     563.97                0                  0.26   \n",
       "5                     342.37                0                  0.36   \n",
       "6                     122.67                0                  0.27   \n",
       "...                      ...              ...                   ...   \n",
       "113932                364.74                0                  0.13   \n",
       "113933                 65.57                0                  0.11   \n",
       "113934                273.35                0                  0.51   \n",
       "113935                449.55                0                  0.48   \n",
       "113936                 64.90                0                  0.23   \n",
       "\n",
       "        loan_original_amount  percent_funded  investors  \n",
       "1                      10000             1.0          1  \n",
       "3                      10000             1.0        158  \n",
       "4                      15000             1.0         20  \n",
       "5                      15000             1.0          1  \n",
       "6                       3000             1.0          1  \n",
       "...                      ...             ...        ...  \n",
       "113932                 10000             1.0          1  \n",
       "113933                  2000             1.0         22  \n",
       "113934                 10000             1.0        119  \n",
       "113935                 15000             1.0        274  \n",
       "113936                  2000             1.0          1  \n",
       "\n",
       "[76216 rows x 14 columns]"
      ]
     },
     "execution_count": 276,
     "metadata": {},
     "output_type": "execute_result"
    }
   ],
   "source": [
    "numeric_loan = df_loan.loc[:, (df_loan.dtypes ==np.int64) | (df_loan.dtypes ==np.float64)]\n",
    "numeric_loan"
   ]
  },
  {
   "cell_type": "markdown",
   "metadata": {},
   "source": [
    "> Visualize the loan rating categories"
   ]
  },
  {
   "cell_type": "markdown",
   "metadata": {},
   "source": [
    "<!-- ### Discuss the distribution(s) of your variable(s) of interest. Were there any unusual points? Did you need to perform any transformations?\n",
    "\n",
    "> Your answer here!\n",
    "\n",
    "### Of the features you investigated, were there any unusual distributions? Did you perform any operations on the data to tidy, adjust, or change the form of the data? If so, why did you do this?\n",
    "\n",
    "> Your answer here! -->"
   ]
  },
  {
   "cell_type": "code",
   "execution_count": 277,
   "metadata": {},
   "outputs": [
    {
     "data": {
      "text/plain": [
       "C     16499\n",
       "B     14379\n",
       "A     13490\n",
       "D     12629\n",
       "E      8443\n",
       "HR     5680\n",
       "AA     5096\n",
       "Name: prosper_alpha_rating, dtype: int64"
      ]
     },
     "execution_count": 277,
     "metadata": {},
     "output_type": "execute_result"
    }
   ],
   "source": [
    "alpha_rating_count = categ_loan.prosper_alpha_rating.value_counts()\n",
    "alpha_rating_count"
   ]
  },
  {
   "cell_type": "markdown",
   "metadata": {},
   "source": [
    "`NB:` The order of the rating has to be maintained in our visualization because thiis is an ordinal categorical data type"
   ]
  },
  {
   "cell_type": "code",
   "execution_count": 278,
   "metadata": {},
   "outputs": [
    {
     "data": {
      "text/plain": [
       "['A', 'AA', 'B', 'C', 'D', 'E', 'HR']"
      ]
     },
     "execution_count": 278,
     "metadata": {},
     "output_type": "execute_result"
    }
   ],
   "source": [
    "alpha_order = sorted(alpha_rating_count.index.tolist())\n",
    "alpha_order"
   ]
  },
  {
   "cell_type": "code",
   "execution_count": 279,
   "metadata": {},
   "outputs": [],
   "source": [
    "alpha_order = ['AA', 'A', 'B', 'C', 'D', 'E', 'HR']"
   ]
  },
  {
   "cell_type": "code",
   "execution_count": 280,
   "metadata": {},
   "outputs": [],
   "source": [
    "income_order = ['$1-24,999', '$25,000-49,999', '$50,000-74,999', '$75,000-99,999', '$100,000+']"
   ]
  },
  {
   "cell_type": "code",
   "execution_count": 281,
   "metadata": {},
   "outputs": [
    {
     "data": {
      "text/plain": [
       "['1', '0', '1']"
      ]
     },
     "execution_count": 281,
     "metadata": {},
     "output_type": "execute_result"
    }
   ],
   "source": [
    "pd_version = pd.__version__.split(\".\")\n",
    "pd_version"
   ]
  },
  {
   "cell_type": "markdown",
   "metadata": {},
   "source": [
    "> Order Ordinal categorical datatypes in dataframe"
   ]
  },
  {
   "cell_type": "code",
   "execution_count": 282,
   "metadata": {},
   "outputs": [],
   "source": [
    "if (int(pd_version[0]) > 0) or (int(pd_version[1]) >= 21): # v0.21 or later\n",
    "    vclasses = pd.api.types.CategoricalDtype(ordered = True, categories = alpha_order)\n",
    "    df_loan.prosper_alpha_rating = df_loan.prosper_alpha_rating.astype(vclasses)\n",
    "    vclasses_1 = pd.api.types.CategoricalDtype(ordered = True, categories = income_order)\n",
    "    df_loan.income_range = df_loan.income_range.astype(vclasses_1)\n",
    "else: # compatibility for v.20\n",
    "    df_loan.prosper_alpha_rating = df_loan.prosper_alpha_rating.astype('category', ordered = True,\n",
    "                                                     categories = alpha_order)\n",
    "    df_loan.income_range = df_loan.income_range.astype('category', ordered = True,\n",
    "                                                     categories = income_order)"
   ]
  },
  {
   "cell_type": "markdown",
   "metadata": {},
   "source": [
    "> Plot Applicants Loan Ratings by Count"
   ]
  },
  {
   "cell_type": "markdown",
   "metadata": {},
   "source": [
    ">> Define bar_colors for countplot ot barchart"
   ]
  },
  {
   "cell_type": "code",
   "execution_count": 283,
   "metadata": {},
   "outputs": [],
   "source": [
    "bar_color = sb.color_palette()[0]"
   ]
  },
  {
   "cell_type": "code",
   "execution_count": 284,
   "metadata": {},
   "outputs": [
    {
     "data": {
      "image/png": "[encoded data removed]",
      "text/plain": [
       "<Figure size 720x360 with 1 Axes>"
      ]
     },
     "metadata": {
      "needs_background": "light"
     },
     "output_type": "display_data"
    }
   ],
   "source": [
    "plt.figure(figsize = (10, 5))\n",
    "sb.countplot(data = df_loan, x = 'prosper_alpha_rating', color = bar_color);\n",
    "plt.title('Prosper Loan Applicants Ratings by Count', fontsize=15)\n",
    "plt.xlabel('Loan Ratings',fontsize=13)\n",
    "plt.ylabel('Count of Applicatns' ,fontsize=13)\n",
    "plt.savefig(fname='visuals/loan_ratings.png', format='png')\n",
    "plt.show()"
   ]
  },
  {
   "cell_type": "markdown",
   "metadata": {},
   "source": [
    "> Plot Applicants Income Range by Count"
   ]
  },
  {
   "cell_type": "code",
   "execution_count": 285,
   "metadata": {},
   "outputs": [
    {
     "data": {
      "image/png": "[encoded data removed]",
      "text/plain": [
       "<Figure size 720x360 with 1 Axes>"
      ]
     },
     "metadata": {
      "needs_background": "light"
     },
     "output_type": "display_data"
    }
   ],
   "source": [
    "plt.figure(figsize = (10, 5)) \n",
    "sb.countplot(data = df_loan, x = 'income_range', color = bar_color);\n",
    "plt.title('Prosper Loan Applicants Income Range by Count', fontsize=15)\n",
    "plt.xlabel('Income Rnages',fontsize=13)\n",
    "plt.ylabel('Count of Applicatns' ,fontsize=13)\n",
    "plt.savefig(fname='visuals/income_ranges.png', format='png')\n",
    "plt.show()"
   ]
  },
  {
   "cell_type": "markdown",
   "metadata": {},
   "source": [
    "> Now let us plot the listing category from our numeric data"
   ]
  },
  {
   "cell_type": "code",
   "execution_count": 286,
   "metadata": {},
   "outputs": [
    {
     "data": {
      "text/plain": [
       "1     48604\n",
       "7      8280\n",
       "2      6328\n",
       "3      3644\n",
       "6      2032\n",
       "13     1767\n",
       "15     1382\n",
       "14      795\n",
       "18      783\n",
       "20      729\n",
       "19      712\n",
       "16      289\n",
       "11      201\n",
       "5       201\n",
       "8       191\n",
       "9        83\n",
       "10       82\n",
       "17       49\n",
       "12       45\n",
       "0        19\n",
       "Name: listing_category_numeric, dtype: int64"
      ]
     },
     "execution_count": 286,
     "metadata": {},
     "output_type": "execute_result"
    }
   ],
   "source": [
    "list_cat = numeric_loan.listing_category_numeric.value_counts()\n",
    "list_cat"
   ]
  },
  {
   "cell_type": "markdown",
   "metadata": {},
   "source": [
    "> Plot\n",
    "\n",
    ">> We need to get the representinve string  valaues of the listing categories above"
   ]
  },
  {
   "cell_type": "code",
   "execution_count": 287,
   "metadata": {},
   "outputs": [],
   "source": [
    "listing_labels = ['Not Available','Debt consolidation','Home improvement','Business','Personal loan','Student use','Auto',\n",
    "                     'Other','Baby & Adoption','Boat','Cosmetic','Procedure','Engagement ring',\n",
    "                     'Green loan','Household expenses','Large purchases','Medical/Dental','Motorcycle','RV','Taxes',\n",
    "                     'Vacation','Wedding loan']"
   ]
  },
  {
   "cell_type": "code",
   "execution_count": 288,
   "metadata": {},
   "outputs": [
    {
     "data": {
      "image/png": "[encoded data removed]",
      "text/plain": [
       "<Figure size 864x720 with 1 Axes>"
      ]
     },
     "metadata": {
      "needs_background": "light"
     },
     "output_type": "display_data"
    }
   ],
   "source": [
    "plt.figure(figsize = (12, 10)) \n",
    "plt.title(\" Category of Borrowers Seected Listing\", fontsize=15)\n",
    "plt.ylabel('Category of Listing',fontsize=13)\n",
    "plt.xlabel('Count of Applicatns' ,fontsize=13)\n",
    "ax = sb.countplot(data = df_loan, y = 'listing_category_numeric', color = bar_color,\n",
    "             )\n",
    "plt.savefig(fname='visuals/listing_category.png', format='png')\n",
    "ax.set(yticklabels = listing_labels);"
   ]
  },
  {
   "cell_type": "markdown",
   "metadata": {},
   "source": [
    "> One importatn question we might like to answer is the count of borrowers in our home oswers in our dataset\n",
    "\n",
    "> This question provides a lof of financial insight into the exposure of the company"
   ]
  },
  {
   "cell_type": "code",
   "execution_count": 289,
   "metadata": {},
   "outputs": [
    {
     "data": {
      "image/png": "[encoded data removed]",
      "text/plain": [
       "<Figure size 432x576 with 1 Axes>"
      ]
     },
     "metadata": {
      "needs_background": "light"
     },
     "output_type": "display_data"
    }
   ],
   "source": [
    "plt.subplots(figsize=(6,8))\n",
    "plt.title(\"Home Owners vs Non-Home Owners\", fontsize=15)\n",
    "sb.countplot(df_loan.is_borrower_homeowner)\n",
    "plt.ylabel('Applicatn\\'s Count',fontsize=13)\n",
    "plt.xlabel('Borrower owns a home ?' ,fontsize=13)\n",
    "plt.xticks(fontsize=12)\n",
    "plt.savefig(fname='visuals/home_owners.png', format='png')\n",
    "plt.show()"
   ]
  },
  {
   "cell_type": "markdown",
   "metadata": {},
   "source": [
    "> Plot Loan Status of Borrowers"
   ]
  },
  {
   "cell_type": "code",
   "execution_count": 290,
   "metadata": {},
   "outputs": [
    {
     "data": {
      "image/png": "[encoded data removed]",
      "text/plain": [
       "<Figure size 1008x864 with 1 Axes>"
      ]
     },
     "metadata": {
      "needs_background": "light"
     },
     "output_type": "display_data"
    }
   ],
   "source": [
    "plt.figure(figsize = (14, 12)) \n",
    "sb.countplot(data = df_loan, y = 'loan_status', color = bar_color,\n",
    "             order = df_loan.loan_status.value_counts().index);\n",
    "plt.title('Distribution of Borrowers Loan Status', fontsize=16)\n",
    "plt.xlabel('Applicat\\Borrowers\\'s Count',fontsize=14)\n",
    "plt.ylabel('Loan Status' ,fontsize=14)\n",
    "plt.xticks(fontsize=13)\n",
    "plt.yticks(fontsize=13)\n",
    "plt.savefig(fname='visuals/loan_status.png', format='png')\n",
    "plt.show()"
   ]
  },
  {
   "cell_type": "markdown",
   "metadata": {},
   "source": [
    "> PLot of Employment Status"
   ]
  },
  {
   "cell_type": "code",
   "execution_count": 291,
   "metadata": {},
   "outputs": [
    {
     "data": {
      "image/png": "[encoded data removed]",
      "text/plain": [
       "<Figure size 864x720 with 1 Axes>"
      ]
     },
     "metadata": {
      "needs_background": "light"
     },
     "output_type": "display_data"
    }
   ],
   "source": [
    "plt.figure(figsize = [12, 10]) \n",
    "plt.title(\"EmploymentStatus of all Borrowers\")\n",
    "sb.countplot(data = df_loan, y = 'employment_status', color = bar_color,\n",
    "             order = df_loan.employment_status.value_counts().index);\n",
    "plt.title('Distribution of Borrowers\\' Employment Status', fontsize=16)\n",
    "plt.xlabel('Borrowers\\' Count',fontsize=14)\n",
    "plt.ylabel('Employment Status' ,fontsize=14)\n",
    "plt.xticks(fontsize=13)\n",
    "plt.yticks(fontsize=13)\n",
    "plt.savefig(fname='visuals/employment_status.png', format='png')\n",
    "plt.show()"
   ]
  },
  {
   "cell_type": "markdown",
   "metadata": {},
   "source": [
    "> PLot of Borrowers' Top 5 State"
   ]
  },
  {
   "cell_type": "code",
   "execution_count": 292,
   "metadata": {},
   "outputs": [
    {
     "data": {
      "image/png": "[encoded data removed]",
      "text/plain": [
       "<Figure size 720x360 with 1 Axes>"
      ]
     },
     "metadata": {
      "needs_background": "light"
     },
     "output_type": "display_data"
    }
   ],
   "source": [
    "plt.figure(figsize = [10, 5]) \n",
    "sb.countplot(data = df_loan, x = 'borrower_state', color = bar_color,\n",
    "             order = df_loan.borrower_state.value_counts().head(5).index );\n",
    "plt.title(\"Top 5 states of all Borrowers\", fontsize=16)\n",
    "plt.xlabel('Borrowers\\' State',fontsize=14)\n",
    "plt.ylabel('Count' ,fontsize=14)\n",
    "plt.xticks(fontsize=13)\n",
    "plt.yticks(fontsize=13)\n",
    "plt.savefig(fname='visuals/borrowers_state.png', format='png')\n",
    "plt.show()"
   ]
  },
  {
   "cell_type": "markdown",
   "metadata": {},
   "source": [
    "> Plot top 10 Occupations of Borrowers"
   ]
  },
  {
   "cell_type": "code",
   "execution_count": 293,
   "metadata": {},
   "outputs": [
    {
     "data": {
      "image/png": "[encoded data removed]",
      "text/plain": [
       "<Figure size 720x576 with 1 Axes>"
      ]
     },
     "metadata": {
      "needs_background": "light"
     },
     "output_type": "display_data"
    }
   ],
   "source": [
    "plt.figure(figsize = [10, 8]) \n",
    "sb.countplot(data = df_loan, y = 'occupation', color = bar_color,\n",
    "             order = df_loan.occupation.value_counts().head(10).index );\n",
    "plt.title(\"Top 10 Occupation of Borrowers\",fontsize=16)\n",
    "plt.xlabel('Count',fontsize=14)\n",
    "plt.ylabel('Occupations' ,fontsize=14)\n",
    "plt.xticks(fontsize=13)\n",
    "plt.yticks(fontsize=13)\n",
    "plt.savefig(fname='visuals/borrowers_occupation.png', format='png')\n",
    "plt.show()"
   ]
  },
  {
   "cell_type": "markdown",
   "metadata": {},
   "source": [
    "> Plot of Borrowers Credit Score\n",
    ">> Note that these score are treated as categorical variables"
   ]
  },
  {
   "cell_type": "code",
   "execution_count": 294,
   "metadata": {},
   "outputs": [
    {
     "data": {
      "image/png": "[encoded data removed]",
      "text/plain": [
       "<Figure size 720x576 with 1 Axes>"
      ]
     },
     "metadata": {
      "needs_background": "light"
     },
     "output_type": "display_data"
    }
   ],
   "source": [
    "plt.figure(figsize = [10, 8]) \n",
    "sb.countplot(data = df_loan, x = 'prosper_score', color = bar_color);\n",
    "plt.title(\"Borrowers Credit Score\", fontsize=16)\n",
    "plt.xlabel('Credit Scores',fontsize=14)\n",
    "plt.ylabel('Count' ,fontsize=14)\n",
    "plt.xticks(fontsize=13)\n",
    "plt.yticks(fontsize=13)\n",
    "plt.savefig(fname='visuals/loan_credit_scores.png', format='png')\n",
    "plt.show()"
   ]
  },
  {
   "cell_type": "markdown",
   "metadata": {},
   "source": [
    "#### Key Insights & Summary of Univariate Analysis - Categorical"
   ]
  },
  {
   "cell_type": "markdown",
   "metadata": {},
   "source": [
    "- most of the borrowers are employed into a job\n",
    "- There are more current loan holders in the loan portfolio\n",
    "- the largest percentage of borrowers have a prosper score rating of    8.0, 6.0 and 4.0\n",
    "- most of the  borrowers do not have a known or reported occupation\n",
    "- We have more borrowers from  CA(California) and NY(New York)\n",
    "- borrowers who earn around `$25,000` are few while most of the borrowers earn between`$_50,000` `$74,999`\n",
    "- most of th borrowers are home owners"
   ]
  },
  {
   "cell_type": "markdown",
   "metadata": {},
   "source": [
    "#### Plotting Visuals for Quantitative Varibales"
   ]
  },
  {
   "cell_type": "markdown",
   "metadata": {},
   "source": [
    "> Plot of Loan Rate Distribution"
   ]
  },
  {
   "cell_type": "code",
   "execution_count": 295,
   "metadata": {},
   "outputs": [
    {
     "data": {
      "image/png": "[encoded data removed]",
      "text/plain": [
       "<Figure size 720x576 with 1 Axes>"
      ]
     },
     "metadata": {
      "needs_background": "light"
     },
     "output_type": "display_data"
    }
   ],
   "source": [
    "plt.figure(figsize=[10,8])\n",
    "bin_edges = np.arange(df_loan.borrower_rate.min(), df_loan.borrower_rate.max()+.02,0.02)\n",
    "plt.hist(data = df_loan, x = 'borrower_rate',bins=bin_edges);\n",
    "plt.title(\"Distribution of Loan Rates\", fontsize=16)\n",
    "plt.xlabel('Borrower Rate',fontsize=14)\n",
    "plt.ylabel('Volume', fontsize=14)\n",
    "plt.savefig(fname='visuals/loa_rate_distro.png', format='png')\n",
    "plt.show()"
   ]
  },
  {
   "cell_type": "markdown",
   "metadata": {},
   "source": [
    "Plot of Distribution of Duration of EMployment Status"
   ]
  },
  {
   "cell_type": "code",
   "execution_count": 296,
   "metadata": {},
   "outputs": [
    {
     "data": {
      "image/png": "[encoded data removed]",
      "text/plain": [
       "<Figure size 720x576 with 1 Axes>"
      ]
     },
     "metadata": {
      "needs_background": "light"
     },
     "output_type": "display_data"
    }
   ],
   "source": [
    "plt.figure(figsize=[10,8])\n",
    "plt.hist(data = df_loan, x = 'employment_status_duration');\n",
    "plt.xlabel('Employment Status Duration');\n",
    "plt.ylabel('Count');\n",
    "plt.title(\"Duration of Borrowers\\' Employment Status\", fontsize=16);\n",
    "plt.xlabel('Employment Status Distribution',fontsize=14)\n",
    "plt.ylabel('Volume', fontsize=14)\n",
    "plt.savefig(fname='visuals/employ_status_distro.png', format='png')\n",
    "plt.show()"
   ]
  },
  {
   "cell_type": "markdown",
   "metadata": {},
   "source": [
    "> Plot Distribution of Borrowers Monthly Income"
   ]
  },
  {
   "cell_type": "code",
   "execution_count": 307,
   "metadata": {},
   "outputs": [
    {
     "data": {
      "image/png": "[encoded data removed]",
      "text/plain": [
       "<Figure size 720x576 with 1 Axes>"
      ]
     },
     "metadata": {
      "needs_background": "light"
     },
     "output_type": "display_data"
    }
   ],
   "source": [
    "low_income = df_loan[df_loan['stated_monthly_income'] <= 25000]\n",
    "bin_edges = np.arange(0, low_income.stated_monthly_income.max()+1000, 1000)\n",
    "plt.figure(figsize=[10,8])\n",
    "plt.hist(data = df_loan, x = 'stated_monthly_income', bins = bin_edges);\n",
    "plt.xlabel('Monthly Income', fontsize=14)\n",
    "plt.ylabel('Count', fontsize=14)\n",
    "plt.title(\" Distribution of Borrowers Monthly Income\")\n",
    "plt.savefig(fname='visuals/borrowers_monthly_distro.png', format='png')\n",
    "plt.show()"
   ]
  },
  {
   "cell_type": "markdown",
   "metadata": {},
   "source": [
    "Plot Distribution of  Loan Original Amount"
   ]
  },
  {
   "cell_type": "code",
   "execution_count": 312,
   "metadata": {},
   "outputs": [
    {
     "data": {
      "image/png": "[encoded data removed]",
      "text/plain": [
       "<Figure size 720x576 with 1 Axes>"
      ]
     },
     "metadata": {
      "needs_background": "light"
     },
     "output_type": "display_data"
    }
   ],
   "source": [
    "bin_edges = np.arange(0, df_loan.loan_original_amount.max()+1000, 1500)\n",
    "plt.figure(figsize=[10,8])\n",
    "plt.hist(data =df_loan, x = 'loan_original_amount', bins = bin_edges)\n",
    "plt.xlabel('Loan Original Amount', fontsize=14)\n",
    "plt.ylabel('Count', fontsize=14)\n",
    "plt.title(\"Loan Original Amount of all Borrowers\", fontsize=16)\n",
    "plt.savefig(fname='visuals/loan_amount_distro.png', format='png')\n",
    "plt.show()"
   ]
  },
  {
   "cell_type": "markdown",
   "metadata": {},
   "source": [
    "Plot of Distribution of Investors"
   ]
  },
  {
   "cell_type": "code",
   "execution_count": 297,
   "metadata": {},
   "outputs": [
    {
     "data": {
      "text/plain": [
       "count    76216.000000\n",
       "mean        69.998517\n",
       "std         97.801415\n",
       "min          1.000000\n",
       "25%          1.000000\n",
       "50%         32.000000\n",
       "75%        100.000000\n",
       "max       1189.000000\n",
       "Name: investors, dtype: float64"
      ]
     },
     "execution_count": 297,
     "metadata": {},
     "output_type": "execute_result"
    }
   ],
   "source": [
    "df_loan.investors.describe()"
   ]
  },
  {
   "cell_type": "code",
   "execution_count": 302,
   "metadata": {},
   "outputs": [
    {
     "data": {
      "image/png": "[encoded data removed]",
      "text/plain": [
       "<Figure size 1080x576 with 2 Axes>"
      ]
     },
     "metadata": {
      "needs_background": "light"
     },
     "output_type": "display_data"
    }
   ],
   "source": [
    "\n",
    "plt.figure(figsize = [15, 8])\n",
    "\n",
    "# left histogram is  plotted in natural units\n",
    "plt.subplot(1, 2, 1)\n",
    "bin_edges = np.arange(0, df_loan.investors.max()+10, 100)\n",
    "plt.hist(data = df_loan, x = 'investors', bins = bin_edges)\n",
    "plt.xlabel('Investors', fontsize=12)\n",
    "plt.title(\"Distribution of Investors\");\n",
    "\n",
    "# right histogram is plotted after direct log transformation\n",
    "plt.subplot(1, 2, 2)\n",
    "# plt.subplot(1, 2, 2)\n",
    "log_data = np.log10(df_loan.investors) # direct data transform\n",
    "log_bin_edges = np.arange(0.8, log_data.max()+0.1, 0.1)\n",
    "plt.hist(log_data, bins = log_bin_edges)\n",
    "plt.xlabel('log(Investors)')\n",
    "plt.title(\"Investors of all Borrowers (Log)\");\n",
    "plt.savefig(fname='visuals/investors.png', format='png')\n",
    "df_loan['investors_log'] = np.log10(df_loan.investors)"
   ]
  },
  {
   "cell_type": "markdown",
   "metadata": {},
   "source": [
    "#### Key Insights & Summary of Univariate Analysis - Numerical"
   ]
  },
  {
   "cell_type": "markdown",
   "metadata": {},
   "source": [
    "#####  Loan_original_amount:\n",
    "> -  the distribution of the loan origin amount was massively skewed to the right. with its highest peak between 4000-5000 USD\n",
    "##### Stated_monthly_income: \n",
    "> - The chart was right-skewed ondicating that most of the borrowers realtively are low income earners, significantly, they earn aroundn $100\n",
    "#### borrower_rate: \n",
    "> -   This distribution is unimodal with its mode around        \n",
    "15 - 16%\n"
   ]
  },
  {
   "cell_type": "markdown",
   "metadata": {},
   "source": [
    "."
   ]
  },
  {
   "cell_type": "markdown",
   "metadata": {},
   "source": [
    "## Bivariate Exploration\n",
    "\n",
    "> In this section, investigate relationships between pairs of variables in your\n",
    "data. Make sure the variables that you cover here have been introduced in some\n",
    "fashion in the previous section (univariate exploration)."
   ]
  },
  {
   "cell_type": "code",
   "execution_count": null,
   "metadata": {},
   "outputs": [],
   "source": []
  },
  {
   "cell_type": "markdown",
   "metadata": {},
   "source": [
    "### Talk about some of the relationships you observed in this part of the investigation. How did the feature(s) of interest vary with other features in the dataset?\n",
    "\n",
    "> Your answer here!\n",
    "\n",
    "### Did you observe any interesting relationships between the other features (not the main feature(s) of interest)?\n",
    "\n",
    "> Your answer here!"
   ]
  },
  {
   "cell_type": "markdown",
   "metadata": {},
   "source": [
    "## Multivariate Exploration\n",
    "\n",
    "> Create plots of three or more variables to investigate your data even\n",
    "further. Make sure that your investigations are justified, and follow from\n",
    "your work in the previous sections."
   ]
  },
  {
   "cell_type": "code",
   "execution_count": null,
   "metadata": {},
   "outputs": [],
   "source": []
  },
  {
   "cell_type": "markdown",
   "metadata": {},
   "source": [
    "### Talk about some of the relationships you observed in this part of the investigation. Were there features that strengthened each other in terms of looking at your feature(s) of interest?\n",
    "\n",
    "> Your answer here!\n",
    "\n",
    "### Were there any interesting or surprising interactions between features?\n",
    "\n",
    "> Your answer here!"
   ]
  },
  {
   "cell_type": "markdown",
   "metadata": {},
   "source": [
    "> At the end of your report, make sure that you export the notebook as an\n",
    "html file from the `File > Download as... > HTML` menu. Make sure you keep\n",
    "track of where the exported file goes, so you can put it in the same folder\n",
    "as this notebook for project submission. Also, make sure you remove all of\n",
    "the quote-formatted guide notes like this one before you finish your report!"
   ]
  },
  {
   "cell_type": "code",
   "execution_count": null,
   "metadata": {},
   "outputs": [],
   "source": []
  }
 ],
 "metadata": {
  "kernelspec": {
   "display_name": "Python 3",
   "language": "python",
   "name": "python3"
  },
  "language_info": {
   "codemirror_mode": {
    "name": "ipython",
    "version": 3
   },
   "file_extension": ".py",
   "mimetype": "text/x-python",
   "name": "python",
   "nbconvert_exporter": "python",
   "pygments_lexer": "ipython3",
   "version": "3.6.9"
  }
 },
 "nbformat": 4,
 "nbformat_minor": 4
}
